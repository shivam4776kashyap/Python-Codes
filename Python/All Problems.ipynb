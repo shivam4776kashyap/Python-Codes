{
 "cells": [
  {
   "cell_type": "markdown",
   "id": "a568cfd0-a656-4fa4-92be-34495050ba9a",
   "metadata": {},
   "source": [
    "# 2. Introduction to python"
   ]
  },
  {
   "cell_type": "code",
   "execution_count": 2,
   "id": "e7e4c2bd-5b45-4fc9-9506-d0d44ad13fad",
   "metadata": {},
   "outputs": [
    {
     "name": "stdin",
     "output_type": "stream",
     "text": [
      " 3\n",
      " 3\n"
     ]
    },
    {
     "name": "stdout",
     "output_type": "stream",
     "text": [
      "27\n"
     ]
    }
   ],
   "source": [
    "x=int(input())\n",
    "y=int(input())\n",
    "print(x**y)"
   ]
  },
  {
   "cell_type": "code",
   "execution_count": 5,
   "id": "9123c482-62a5-44aa-a786-bfec18d2a443",
   "metadata": {},
   "outputs": [
    {
     "name": "stdin",
     "output_type": "stream",
     "text": [
      " 22\n",
      " 33\n",
      " 44\n"
     ]
    },
    {
     "name": "stdout",
     "output_type": "stream",
     "text": [
      "Common Difference: 11\n"
     ]
    }
   ],
   "source": [
    "x=int(input())\n",
    "y=int(input())\n",
    "z=int(input())\n",
    "if y-x==z-y:\n",
    "    print(\"Common Difference:\",abs(x-y))\n",
    "\n",
    "else:\n",
    "    print(\"No Common differnce\")"
   ]
  },
  {
   "cell_type": "code",
   "execution_count": null,
   "id": "ea2ba17b-5b16-4ea7-9291-9b2b624f7b24",
   "metadata": {},
   "outputs": [],
   "source": []
  },
  {
   "cell_type": "markdown",
   "id": "89e31e4b-6c3e-4d81-91fb-942be713e337",
   "metadata": {},
   "source": [
    "# 3. Condition and Loops"
   ]
  },
  {
   "cell_type": "code",
   "execution_count": 7,
   "id": "ee694f17-0dd3-4946-aef2-136ad0e035fe",
   "metadata": {},
   "outputs": [
    {
     "name": "stdin",
     "output_type": "stream",
     "text": [
      " 2\n",
      " 55\n",
      " 22\n"
     ]
    },
    {
     "name": "stdout",
     "output_type": "stream",
     "text": [
      "33\n"
     ]
    }
   ],
   "source": [
    "# Assignment 1: Simple calculator\n",
    "a=int(input())\n",
    "b=int(input())\n",
    "c=int(input())\n",
    "if  a==1:\n",
    "    print(b+c)\n",
    "if  a==2:\n",
    "    print(b-c)\n",
    "if  a==3:\n",
    "    print(b*c)\n",
    "if  a==4:\n",
    "    print(b/c)\n",
    "if  a==5:\n",
    "    print(\"Invalid input\")\n",
    "    "
   ]
  },
  {
   "cell_type": "code",
   "execution_count": null,
   "id": "0c44985e-f233-4dd7-831b-fd0ae568f784",
   "metadata": {},
   "outputs": [],
   "source": []
  },
  {
   "cell_type": "code",
   "execution_count": 13,
   "id": "9a925070-96e1-44a2-ba2a-d24bbca4d810",
   "metadata": {},
   "outputs": [
    {
     "name": "stdin",
     "output_type": "stream",
     "text": [
      " 100000\n"
     ]
    },
    {
     "name": "stdout",
     "output_type": "stream",
     "text": [
      "5000050000\n"
     ]
    }
   ],
   "source": [
    "n=int(input())\n",
    "sum=0\n",
    "for i in range(n+1):\n",
    "    sum=sum+i\n",
    "\n",
    "print(sum)"
   ]
  },
  {
   "cell_type": "code",
   "execution_count": 14,
   "id": "160e4c0c-b30c-4da0-9015-e338ddb2711e",
   "metadata": {},
   "outputs": [
    {
     "name": "stdin",
     "output_type": "stream",
     "text": [
      " 10\n"
     ]
    },
    {
     "name": "stdout",
     "output_type": "stream",
     "text": [
      "30\n"
     ]
    }
   ],
   "source": [
    "n=int(input())\n",
    "sum=0\n",
    "for i in range(n+1):\n",
    "    if i%2==0:\n",
    "        sum=sum+i\n",
    "\n",
    "print(sum)"
   ]
  },
  {
   "cell_type": "code",
   "execution_count": 19,
   "id": "bb9bacad-3593-4830-a8b2-5da3cab38b16",
   "metadata": {},
   "outputs": [
    {
     "name": "stdout",
     "output_type": "stream",
     "text": [
      "10\n",
      "20\n"
     ]
    }
   ],
   "source": [
    "class A:\n",
    "    def __init__(self,a,b):\n",
    "        self.x=10\n",
    "        self.y=20\n",
    "    def printvalue(self):\n",
    "        print(self.x)\n",
    "        print(self.y)\n",
    "\n",
    "obj=A(34,353)\n",
    "obj.printvalue()"
   ]
  },
  {
   "cell_type": "code",
   "execution_count": null,
   "id": "8f65e457-1dae-43a6-aae9-992aaa105775",
   "metadata": {},
   "outputs": [],
   "source": []
  },
  {
   "cell_type": "code",
   "execution_count": 27,
   "id": "49b06646-b4b5-4c34-9788-bffbf60ed7fb",
   "metadata": {},
   "outputs": [
    {
     "data": {
      "text/plain": [
       "55"
      ]
     },
     "execution_count": 27,
     "metadata": {},
     "output_type": "execute_result"
    }
   ],
   "source": [
    "a=[11,33,44,55]\n",
    "a.pop()"
   ]
  },
  {
   "cell_type": "code",
   "execution_count": 28,
   "id": "6e738875-0754-4a5c-ac6d-4fe8c70d8b35",
   "metadata": {},
   "outputs": [
    {
     "data": {
      "text/plain": [
       "44"
      ]
     },
     "execution_count": 28,
     "metadata": {},
     "output_type": "execute_result"
    }
   ],
   "source": [
    "a.pop()"
   ]
  },
  {
   "cell_type": "code",
   "execution_count": 29,
   "id": "bec79daf-e152-45a7-8263-20db348f99e8",
   "metadata": {},
   "outputs": [
    {
     "name": "stdout",
     "output_type": "stream",
     "text": [
      "[[11]]\n"
     ]
    }
   ],
   "source": [
    "a=[[10]]\n",
    "b=a\n",
    "a[0][0]=11\n",
    "print(b)"
   ]
  },
  {
   "cell_type": "code",
   "execution_count": null,
   "id": "bec7cce5-4f76-48e6-bc93-08832cb24cc6",
   "metadata": {},
   "outputs": [],
   "source": []
  },
  {
   "cell_type": "code",
   "execution_count": null,
   "id": "7d5d26e3-f648-4911-a961-832b51672664",
   "metadata": {},
   "outputs": [],
   "source": []
  }
 ],
 "metadata": {
  "kernelspec": {
   "display_name": "Python 3 (ipykernel)",
   "language": "python",
   "name": "python3"
  },
  "language_info": {
   "codemirror_mode": {
    "name": "ipython",
    "version": 3
   },
   "file_extension": ".py",
   "mimetype": "text/x-python",
   "name": "python",
   "nbconvert_exporter": "python",
   "pygments_lexer": "ipython3",
   "version": "3.11.7"
  }
 },
 "nbformat": 4,
 "nbformat_minor": 5
}
