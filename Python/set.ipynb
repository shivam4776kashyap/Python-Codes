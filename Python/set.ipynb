{
 "cells": [
  {
   "cell_type": "code",
   "execution_count": 1,
   "id": "72de85c5-f174-45ea-bfb1-008829a8314b",
   "metadata": {},
   "outputs": [],
   "source": [
    "a={'apple','shivam',44}"
   ]
  },
  {
   "cell_type": "code",
   "execution_count": 2,
   "id": "16c4ab6a-9e16-4aff-8da3-3e3814e1459e",
   "metadata": {},
   "outputs": [
    {
     "data": {
      "text/plain": [
       "{44, 'apple', 'shivam'}"
      ]
     },
     "execution_count": 2,
     "metadata": {},
     "output_type": "execute_result"
    }
   ],
   "source": [
    "a"
   ]
  },
  {
   "cell_type": "code",
   "execution_count": 3,
   "id": "9e59261b-12cd-48f5-8234-0a972bd016b4",
   "metadata": {},
   "outputs": [
    {
     "data": {
      "text/plain": [
       "set"
      ]
     },
     "execution_count": 3,
     "metadata": {},
     "output_type": "execute_result"
    }
   ],
   "source": [
    "type(a)"
   ]
  },
  {
   "cell_type": "code",
   "execution_count": 4,
   "id": "648aa266-f3b1-4213-b7b6-07f482579545",
   "metadata": {},
   "outputs": [
    {
     "ename": "TypeError",
     "evalue": "'set' object is not subscriptable",
     "output_type": "error",
     "traceback": [
      "\u001b[1;31m---------------------------------------------------------------------------\u001b[0m",
      "\u001b[1;31mTypeError\u001b[0m                                 Traceback (most recent call last)",
      "Cell \u001b[1;32mIn[4], line 1\u001b[0m\n\u001b[1;32m----> 1\u001b[0m a[\u001b[38;5;241m0\u001b[39m]\n",
      "\u001b[1;31mTypeError\u001b[0m: 'set' object is not subscriptable"
     ]
    }
   ],
   "source": [
    "a[0]"
   ]
  },
  {
   "cell_type": "code",
   "execution_count": 5,
   "id": "874a24e1-b345-4e2e-913a-305bd34f0389",
   "metadata": {},
   "outputs": [
    {
     "data": {
      "text/plain": [
       "True"
      ]
     },
     "execution_count": 5,
     "metadata": {},
     "output_type": "execute_result"
    }
   ],
   "source": [
    "'shivam' in a"
   ]
  },
  {
   "cell_type": "code",
   "execution_count": 6,
   "id": "f6cf0022-86cd-40f0-bd27-2ccae53f4625",
   "metadata": {},
   "outputs": [
    {
     "data": {
      "text/plain": [
       "False"
      ]
     },
     "execution_count": 6,
     "metadata": {},
     "output_type": "execute_result"
    }
   ],
   "source": [
    "'kashyap' in a"
   ]
  },
  {
   "cell_type": "code",
   "execution_count": 7,
   "id": "7feeb864-e995-4b87-99cb-ab135144420f",
   "metadata": {},
   "outputs": [
    {
     "name": "stdout",
     "output_type": "stream",
     "text": [
      "apple\n",
      "shivam\n",
      "44\n"
     ]
    }
   ],
   "source": [
    "for e in a:\n",
    "    print(e)"
   ]
  },
  {
   "cell_type": "code",
   "execution_count": 8,
   "id": "1ef98b1c-e2d7-4f29-b7ec-955dec28e67d",
   "metadata": {},
   "outputs": [
    {
     "data": {
      "text/plain": [
       "3"
      ]
     },
     "execution_count": 8,
     "metadata": {},
     "output_type": "execute_result"
    }
   ],
   "source": [
    "len(a)"
   ]
  },
  {
   "cell_type": "code",
   "execution_count": 9,
   "id": "e7a5f534-6d00-4991-8403-06e5891ed841",
   "metadata": {},
   "outputs": [],
   "source": [
    "a.add(\"kashyap\")"
   ]
  },
  {
   "cell_type": "code",
   "execution_count": 10,
   "id": "e9bc6544-39f0-4c10-a021-3dacc47845cb",
   "metadata": {},
   "outputs": [
    {
     "data": {
      "text/plain": [
       "{44, 'apple', 'kashyap', 'shivam'}"
      ]
     },
     "execution_count": 10,
     "metadata": {},
     "output_type": "execute_result"
    }
   ],
   "source": [
    "a"
   ]
  },
  {
   "cell_type": "code",
   "execution_count": 11,
   "id": "216a26f9-4f6d-4947-875c-f563df2f154a",
   "metadata": {},
   "outputs": [],
   "source": [
    "b={'kashyap',32}"
   ]
  },
  {
   "cell_type": "code",
   "execution_count": 12,
   "id": "25ee529f-91b7-4268-9520-f956ef53d6ac",
   "metadata": {},
   "outputs": [],
   "source": [
    "a.update(b)"
   ]
  },
  {
   "cell_type": "code",
   "execution_count": 13,
   "id": "d603fd2c-73f6-4603-83de-daf55972ae5b",
   "metadata": {},
   "outputs": [
    {
     "data": {
      "text/plain": [
       "{32, 44, 'apple', 'kashyap', 'shivam'}"
      ]
     },
     "execution_count": 13,
     "metadata": {},
     "output_type": "execute_result"
    }
   ],
   "source": [
    "a"
   ]
  },
  {
   "cell_type": "code",
   "execution_count": 14,
   "id": "a00b8265-49a0-45fa-afef-386ea3abe9bb",
   "metadata": {},
   "outputs": [],
   "source": [
    "a.remove(\"shivam\")"
   ]
  },
  {
   "cell_type": "code",
   "execution_count": 15,
   "id": "298b9401-752b-42f4-ac9b-7ef2a3ecf5b3",
   "metadata": {},
   "outputs": [
    {
     "data": {
      "text/plain": [
       "{32, 44, 'apple', 'kashyap'}"
      ]
     },
     "execution_count": 15,
     "metadata": {},
     "output_type": "execute_result"
    }
   ],
   "source": [
    "a"
   ]
  },
  {
   "cell_type": "code",
   "execution_count": 17,
   "id": "34085e2f-2fd6-454c-8700-79f91ec75a2f",
   "metadata": {},
   "outputs": [
    {
     "ename": "KeyError",
     "evalue": "12",
     "output_type": "error",
     "traceback": [
      "\u001b[1;31m---------------------------------------------------------------------------\u001b[0m",
      "\u001b[1;31mKeyError\u001b[0m                                  Traceback (most recent call last)",
      "Cell \u001b[1;32mIn[17], line 1\u001b[0m\n\u001b[1;32m----> 1\u001b[0m a\u001b[38;5;241m.\u001b[39mremove(\u001b[38;5;241m12\u001b[39m)\n",
      "\u001b[1;31mKeyError\u001b[0m: 12"
     ]
    }
   ],
   "source": [
    "a.remove(12) # it give the error because 12 hai hee nhi set mei"
   ]
  },
  {
   "cell_type": "code",
   "execution_count": 18,
   "id": "e195246a-d768-4373-8b8a-02ad39410ead",
   "metadata": {},
   "outputs": [
    {
     "data": {
      "text/plain": [
       "{32, 44, 'apple', 'kashyap'}"
      ]
     },
     "execution_count": 18,
     "metadata": {},
     "output_type": "execute_result"
    }
   ],
   "source": [
    "a"
   ]
  },
  {
   "cell_type": "code",
   "execution_count": 19,
   "id": "f0684192-593d-4af7-b886-db122424f8ab",
   "metadata": {},
   "outputs": [],
   "source": [
    "a.discard(\"apple\")"
   ]
  },
  {
   "cell_type": "code",
   "execution_count": 20,
   "id": "b3279dd8-4200-4ff0-8b12-36b9ee7b3091",
   "metadata": {},
   "outputs": [
    {
     "data": {
      "text/plain": [
       "{32, 44, 'kashyap'}"
      ]
     },
     "execution_count": 20,
     "metadata": {},
     "output_type": "execute_result"
    }
   ],
   "source": [
    "a"
   ]
  },
  {
   "cell_type": "code",
   "execution_count": 23,
   "id": "6df75826-27e1-48ea-84ac-a4cfdc014b2b",
   "metadata": {},
   "outputs": [],
   "source": [
    "a.discard(\"kingo\") # the only difference in between remove and discard is that : remove will give the error it element is not in set,\n",
    "                   # where discard will not give error it simply ignore heeeeeeeeeeee"
   ]
  },
  {
   "cell_type": "code",
   "execution_count": 24,
   "id": "9fc64504-7a9b-453a-ba66-7e2d805e1e0d",
   "metadata": {},
   "outputs": [
    {
     "data": {
      "text/plain": [
       "{32, 44, 'kashyap'}"
      ]
     },
     "execution_count": 24,
     "metadata": {},
     "output_type": "execute_result"
    }
   ],
   "source": [
    "a"
   ]
  },
  {
   "cell_type": "code",
   "execution_count": 25,
   "id": "cd689ee6-34b9-446f-89a3-c8aa2d21a1df",
   "metadata": {},
   "outputs": [
    {
     "data": {
      "text/plain": [
       "32"
      ]
     },
     "execution_count": 25,
     "metadata": {},
     "output_type": "execute_result"
    }
   ],
   "source": [
    "a.pop() # randomly it pop/delete the element from the set"
   ]
  },
  {
   "cell_type": "code",
   "execution_count": 26,
   "id": "0a28e3ff-b5c5-40c6-8677-3e187c00d978",
   "metadata": {},
   "outputs": [
    {
     "data": {
      "text/plain": [
       "{44, 'kashyap'}"
      ]
     },
     "execution_count": 26,
     "metadata": {},
     "output_type": "execute_result"
    }
   ],
   "source": [
    "a"
   ]
  },
  {
   "cell_type": "code",
   "execution_count": null,
   "id": "814bdc75-8442-4800-a7ef-b9b4545c6fa0",
   "metadata": {},
   "outputs": [],
   "source": []
  },
  {
   "cell_type": "markdown",
   "id": "9de43f0b-4b89-4a25-a4fb-6f6c21c45e66",
   "metadata": {},
   "source": [
    "# Sets Functions"
   ]
  },
  {
   "cell_type": "code",
   "execution_count": 27,
   "id": "5f8840e5-d54e-4b9c-813f-12c9f2d6ac61",
   "metadata": {},
   "outputs": [],
   "source": [
    "a={1,2,3,4}\n",
    "b={3,4,5,6}"
   ]
  },
  {
   "cell_type": "code",
   "execution_count": 28,
   "id": "8d7a1d46-6e9c-4b62-bcbf-dad35e0145c7",
   "metadata": {},
   "outputs": [
    {
     "data": {
      "text/plain": [
       "{1, 2, 3, 4, 5, 6}"
      ]
     },
     "execution_count": 28,
     "metadata": {},
     "output_type": "execute_result"
    }
   ],
   "source": [
    "a.union(b)"
   ]
  },
  {
   "cell_type": "code",
   "execution_count": 29,
   "id": "cfb691fa-a679-4e68-b23a-38e7e3528ec9",
   "metadata": {},
   "outputs": [
    {
     "data": {
      "text/plain": [
       "{3, 4}"
      ]
     },
     "execution_count": 29,
     "metadata": {},
     "output_type": "execute_result"
    }
   ],
   "source": [
    "a.intersection(b)"
   ]
  },
  {
   "cell_type": "code",
   "execution_count": 30,
   "id": "55bdd575-590f-4cc4-91bf-0f3e5ed57ed3",
   "metadata": {},
   "outputs": [
    {
     "data": {
      "text/plain": [
       "{1, 2}"
      ]
     },
     "execution_count": 30,
     "metadata": {},
     "output_type": "execute_result"
    }
   ],
   "source": [
    "a.difference(b)"
   ]
  },
  {
   "cell_type": "code",
   "execution_count": 31,
   "id": "b1099be2-0012-460a-8bc3-58ccc8f05a31",
   "metadata": {},
   "outputs": [
    {
     "data": {
      "text/plain": [
       "{1, 2, 5, 6}"
      ]
     },
     "execution_count": 31,
     "metadata": {},
     "output_type": "execute_result"
    }
   ],
   "source": [
    "a.symmetric_difference(b)"
   ]
  },
  {
   "cell_type": "markdown",
   "id": "74bcf195-eae1-409a-8824-99075640362f",
   "metadata": {},
   "source": [
    "## in all the above function of sets the value of a is not changing it remain same, but if u want to update value of a than simply use _update with the function."
   ]
  },
  {
   "cell_type": "code",
   "execution_count": 37,
   "id": "0c9e2580-0494-4c69-acfc-78b0ff3cb46f",
   "metadata": {},
   "outputs": [],
   "source": [
    "a={1,2,3,4}\n",
    "b={3,4,5,6}"
   ]
  },
  {
   "cell_type": "code",
   "execution_count": 34,
   "id": "7058d3c5-0f69-4a7e-b9d9-a7c026f0fa06",
   "metadata": {},
   "outputs": [],
   "source": [
    "a.intersection_update(b)"
   ]
  },
  {
   "cell_type": "code",
   "execution_count": 35,
   "id": "393aadfe-d77c-4476-87b1-d3652f25fbda",
   "metadata": {},
   "outputs": [
    {
     "data": {
      "text/plain": [
       "{3, 4}"
      ]
     },
     "execution_count": 35,
     "metadata": {},
     "output_type": "execute_result"
    }
   ],
   "source": [
    "a"
   ]
  },
  {
   "cell_type": "code",
   "execution_count": 38,
   "id": "4e7e99fd-9aa9-4888-92de-dab2809914c9",
   "metadata": {},
   "outputs": [],
   "source": [
    "a={1,2,3,4}\n",
    "b={3,4,5,6}"
   ]
  },
  {
   "cell_type": "code",
   "execution_count": 39,
   "id": "7f38fa12-a627-41d6-9f10-b4f7b1aa862e",
   "metadata": {},
   "outputs": [],
   "source": [
    "a.difference_update(b)"
   ]
  },
  {
   "cell_type": "code",
   "execution_count": 40,
   "id": "b3ad9671-3410-4c83-a17a-1bbddf62b5d0",
   "metadata": {},
   "outputs": [
    {
     "data": {
      "text/plain": [
       "{1, 2}"
      ]
     },
     "execution_count": 40,
     "metadata": {},
     "output_type": "execute_result"
    }
   ],
   "source": [
    "a"
   ]
  },
  {
   "cell_type": "code",
   "execution_count": 41,
   "id": "fdab28ce-031b-4b00-a980-e56006115a9c",
   "metadata": {},
   "outputs": [],
   "source": [
    "a={1,2,3,4}\n",
    "b={3,4,5,6}"
   ]
  },
  {
   "cell_type": "code",
   "execution_count": 42,
   "id": "eb9bbfde-cfc1-49c1-a6fd-b1f20df88ee4",
   "metadata": {},
   "outputs": [],
   "source": [
    "a.symmetric_difference_update(b)"
   ]
  },
  {
   "cell_type": "code",
   "execution_count": 43,
   "id": "834e5be7-6f61-4c3e-8c17-aaa448113c44",
   "metadata": {},
   "outputs": [
    {
     "data": {
      "text/plain": [
       "{1, 2, 5, 6}"
      ]
     },
     "execution_count": 43,
     "metadata": {},
     "output_type": "execute_result"
    }
   ],
   "source": [
    "a"
   ]
  },
  {
   "cell_type": "code",
   "execution_count": 44,
   "id": "aeefd71a-5cf1-4a22-8a5a-689530916dc0",
   "metadata": {},
   "outputs": [],
   "source": [
    "a={1,2,3,4}\n",
    "b={3,4,5,6}"
   ]
  },
  {
   "cell_type": "code",
   "execution_count": 46,
   "id": "3fc8327a-f462-4cce-8687-315836ac635c",
   "metadata": {},
   "outputs": [
    {
     "ename": "AttributeError",
     "evalue": "'set' object has no attribute 'union_update'",
     "output_type": "error",
     "traceback": [
      "\u001b[1;31m---------------------------------------------------------------------------\u001b[0m",
      "\u001b[1;31mAttributeError\u001b[0m                            Traceback (most recent call last)",
      "Cell \u001b[1;32mIn[46], line 1\u001b[0m\n\u001b[1;32m----> 1\u001b[0m a\u001b[38;5;241m.\u001b[39munion_update(b)\n",
      "\u001b[1;31mAttributeError\u001b[0m: 'set' object has no attribute 'union_update'"
     ]
    }
   ],
   "source": [
    "a.union_update(b) # only with the union function it will not update a value, it gives the error"
   ]
  },
  {
   "cell_type": "code",
   "execution_count": 48,
   "id": "c4470c4e-7099-478d-9cf9-21f10881288f",
   "metadata": {},
   "outputs": [],
   "source": [
    "a={1,2,3,4}\n",
    "b={3,4,5,6}\n",
    "c={3,4}\n",
    "d={7,8}"
   ]
  },
  {
   "cell_type": "code",
   "execution_count": 49,
   "id": "fd408996-125a-46f0-89b0-2544a6684102",
   "metadata": {},
   "outputs": [
    {
     "data": {
      "text/plain": [
       "False"
      ]
     },
     "execution_count": 49,
     "metadata": {},
     "output_type": "execute_result"
    }
   ],
   "source": [
    "a.issubset(b)"
   ]
  },
  {
   "cell_type": "code",
   "execution_count": 50,
   "id": "d3d4f5a7-1563-4e0c-8f16-740150cbbb83",
   "metadata": {},
   "outputs": [
    {
     "data": {
      "text/plain": [
       "True"
      ]
     },
     "execution_count": 50,
     "metadata": {},
     "output_type": "execute_result"
    }
   ],
   "source": [
    "c.issubset(b)"
   ]
  },
  {
   "cell_type": "code",
   "execution_count": 51,
   "id": "64ed17f0-e768-4f24-ba47-e069f77ecd33",
   "metadata": {},
   "outputs": [
    {
     "data": {
      "text/plain": [
       "True"
      ]
     },
     "execution_count": 51,
     "metadata": {},
     "output_type": "execute_result"
    }
   ],
   "source": [
    "a.issuperset(c)"
   ]
  },
  {
   "cell_type": "code",
   "execution_count": 52,
   "id": "be58f6e3-b97e-468d-84ba-d8e9d8443e81",
   "metadata": {},
   "outputs": [
    {
     "data": {
      "text/plain": [
       "False"
      ]
     },
     "execution_count": 52,
     "metadata": {},
     "output_type": "execute_result"
    }
   ],
   "source": [
    "a.isdisjoint(c)"
   ]
  },
  {
   "cell_type": "code",
   "execution_count": 53,
   "id": "443c537b-01d1-417c-8521-0e9f936a76a7",
   "metadata": {},
   "outputs": [
    {
     "data": {
      "text/plain": [
       "True"
      ]
     },
     "execution_count": 53,
     "metadata": {},
     "output_type": "execute_result"
    }
   ],
   "source": [
    "d.isdisjoint(a)"
   ]
  },
  {
   "cell_type": "code",
   "execution_count": null,
   "id": "1696ea68-28cf-4553-8b22-cb3bde96fa1b",
   "metadata": {},
   "outputs": [],
   "source": []
  },
  {
   "cell_type": "markdown",
   "id": "2e0b8651-7a3f-4dc7-975c-49305aa9c236",
   "metadata": {},
   "source": [
    "# Creating an empty set is something that is different and you have to learn that"
   ]
  },
  {
   "cell_type": "code",
   "execution_count": 59,
   "id": "45d20dc6-ad51-4970-9926-da1e55d9d030",
   "metadata": {},
   "outputs": [],
   "source": [
    "s={}  # Empty Dictionary"
   ]
  },
  {
   "cell_type": "code",
   "execution_count": 60,
   "id": "4db167b8-27d2-4cae-8ca9-7f2c58738e5f",
   "metadata": {},
   "outputs": [
    {
     "data": {
      "text/plain": [
       "dict"
      ]
     },
     "execution_count": 60,
     "metadata": {},
     "output_type": "execute_result"
    }
   ],
   "source": [
    "type(s)"
   ]
  },
  {
   "cell_type": "code",
   "execution_count": 61,
   "id": "5bffef6d-2e14-48b9-b3c5-8975d3fa34a9",
   "metadata": {},
   "outputs": [],
   "source": [
    "s=set()  # Empty set"
   ]
  },
  {
   "cell_type": "code",
   "execution_count": 62,
   "id": "b984e641-ba10-4b99-bfbd-896cfd13b808",
   "metadata": {},
   "outputs": [
    {
     "data": {
      "text/plain": [
       "set"
      ]
     },
     "execution_count": 62,
     "metadata": {},
     "output_type": "execute_result"
    }
   ],
   "source": [
    "type(s)"
   ]
  },
  {
   "cell_type": "code",
   "execution_count": null,
   "id": "04c544b6-88ae-4896-917c-503f0a886c92",
   "metadata": {},
   "outputs": [],
   "source": []
  },
  {
   "cell_type": "markdown",
   "id": "84f9eb88-a400-4b24-8fe1-f4a8e9a60369",
   "metadata": {},
   "source": [
    "# Problem: Find the sum of all unique number in the list."
   ]
  },
  {
   "cell_type": "code",
   "execution_count": 68,
   "id": "b26fd1bc-0313-45af-b0df-16ed46cf0182",
   "metadata": {},
   "outputs": [
    {
     "data": {
      "text/plain": [
       "15"
      ]
     },
     "execution_count": 68,
     "metadata": {},
     "output_type": "execute_result"
    }
   ],
   "source": [
    "def sum_unique_no(l):\n",
    "    s=set()\n",
    "    for i in l:\n",
    "        s.add(i)\n",
    "    sum=0\n",
    "    for i in s:\n",
    "        sum=sum+i\n",
    "    return sum\n",
    "\n",
    "sum_unique_no([1,2,3,4,5,4,3,2,1,5,4,3,2,3,4,2,3,4])\n"
   ]
  },
  {
   "cell_type": "code",
   "execution_count": null,
   "id": "fe1475dc-6f54-49ae-a4ff-f03f36d6509e",
   "metadata": {},
   "outputs": [],
   "source": []
  },
  {
   "cell_type": "code",
   "execution_count": null,
   "id": "7aa68b77-161f-467f-80e1-c9d03ec11637",
   "metadata": {},
   "outputs": [],
   "source": []
  },
  {
   "cell_type": "code",
   "execution_count": null,
   "id": "4b55a5d7-f3bf-472c-9ac5-acefb71afad6",
   "metadata": {},
   "outputs": [],
   "source": []
  },
  {
   "cell_type": "code",
   "execution_count": null,
   "id": "a61e4bad-5a00-44e2-95f9-7683d605e93f",
   "metadata": {},
   "outputs": [],
   "source": []
  },
  {
   "cell_type": "code",
   "execution_count": null,
   "id": "b9ec672d-9fc8-4929-8684-3fc8b0e5af7e",
   "metadata": {},
   "outputs": [],
   "source": []
  },
  {
   "cell_type": "code",
   "execution_count": null,
   "id": "d1cb6c4f-ddc3-4067-9c82-6c571907830b",
   "metadata": {},
   "outputs": [],
   "source": []
  },
  {
   "cell_type": "code",
   "execution_count": null,
   "id": "48ad680b-ab24-4d64-b2ef-15769ddb11e2",
   "metadata": {},
   "outputs": [],
   "source": []
  },
  {
   "cell_type": "code",
   "execution_count": null,
   "id": "7aa428b5-2469-4f91-b600-d3acbc9c69af",
   "metadata": {},
   "outputs": [],
   "source": []
  },
  {
   "cell_type": "code",
   "execution_count": null,
   "id": "73196455-7f4f-4e34-8a5c-708b48b127f3",
   "metadata": {},
   "outputs": [],
   "source": []
  },
  {
   "cell_type": "code",
   "execution_count": null,
   "id": "67b119b5-c575-4456-91d9-3c187e66cc82",
   "metadata": {},
   "outputs": [],
   "source": []
  },
  {
   "cell_type": "code",
   "execution_count": null,
   "id": "8514134c-478c-47e2-b8df-73b26987bff2",
   "metadata": {},
   "outputs": [],
   "source": []
  },
  {
   "cell_type": "code",
   "execution_count": null,
   "id": "676dc5c6-f36f-42f5-9c1c-9abf65f4e9ee",
   "metadata": {},
   "outputs": [],
   "source": []
  }
 ],
 "metadata": {
  "kernelspec": {
   "display_name": "Python 3 (ipykernel)",
   "language": "python",
   "name": "python3"
  },
  "language_info": {
   "codemirror_mode": {
    "name": "ipython",
    "version": 3
   },
   "file_extension": ".py",
   "mimetype": "text/x-python",
   "name": "python",
   "nbconvert_exporter": "python",
   "pygments_lexer": "ipython3",
   "version": "3.11.7"
  }
 },
 "nbformat": 4,
 "nbformat_minor": 5
}
