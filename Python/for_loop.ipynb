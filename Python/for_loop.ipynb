{
 "cells": [
  {
   "cell_type": "markdown",
   "id": "87935703-d4b5-4bc4-9897-0dfd28c644d2",
   "metadata": {},
   "source": [
    "## More on Loops"
   ]
  },
  {
   "cell_type": "markdown",
   "id": "4950d156-49eb-4de4-b119-b0d004aa0b36",
   "metadata": {},
   "source": [
    "## Print all multiple of 3"
   ]
  },
  {
   "cell_type": "code",
   "execution_count": 3,
   "id": "bf3e97d0-5a29-4815-b4da-4f8dae19769e",
   "metadata": {},
   "outputs": [
    {
     "name": "stdin",
     "output_type": "stream",
     "text": [
      " 1\n",
      " 100\n"
     ]
    },
    {
     "name": "stdout",
     "output_type": "stream",
     "text": [
      "3\n",
      "6\n",
      "9\n",
      "12\n",
      "15\n",
      "18\n",
      "21\n",
      "24\n",
      "27\n",
      "30\n",
      "33\n",
      "36\n",
      "39\n",
      "42\n",
      "45\n",
      "48\n",
      "51\n",
      "54\n",
      "57\n",
      "60\n",
      "63\n",
      "66\n",
      "69\n",
      "72\n",
      "75\n",
      "78\n",
      "81\n",
      "84\n",
      "87\n",
      "90\n",
      "93\n",
      "96\n",
      "99\n"
     ]
    }
   ],
   "source": [
    "a=int(input())\n",
    "b=int(input())\n",
    "for a in range(a,b+1,1):\n",
    "    if(a%3==0):\n",
    "        print(a)"
   ]
  },
  {
   "cell_type": "markdown",
   "id": "e0f0612f-805a-4ebe-8af6-ec58d4d418b3",
   "metadata": {},
   "source": [
    "## 2nd way of Printing all multiple of 3"
   ]
  },
  {
   "cell_type": "code",
   "execution_count": 7,
   "id": "4dd96377-35a1-4641-a99c-1b6ce08f5d48",
   "metadata": {},
   "outputs": [
    {
     "name": "stdin",
     "output_type": "stream",
     "text": [
      " 7\n",
      " 34\n"
     ]
    },
    {
     "name": "stdout",
     "output_type": "stream",
     "text": [
      "9\n",
      "12\n",
      "15\n",
      "18\n",
      "21\n",
      "24\n",
      "27\n",
      "30\n",
      "33\n"
     ]
    }
   ],
   "source": [
    "a=int(input())\n",
    "b=int(input())\n",
    "\n",
    "if a%3==1:\n",
    "    a=a+2\n",
    "elif a%3==2:\n",
    "    a=a+1\n",
    "else:\n",
    "    a=a\n",
    "for i in range(a,b+1,1):\n",
    "    if(i%3==0):\n",
    "        print(i)"
   ]
  },
  {
   "cell_type": "markdown",
   "id": "06cd1085-a02a-418d-a7a8-aa633fe80600",
   "metadata": {},
   "source": [
    "## Prime number using For loop"
   ]
  },
  {
   "cell_type": "code",
   "execution_count": 23,
   "id": "b7e93634-1d40-4d24-9e94-3249877b1769",
   "metadata": {},
   "outputs": [
    {
     "name": "stdin",
     "output_type": "stream",
     "text": [
      " 97\n"
     ]
    },
    {
     "name": "stdout",
     "output_type": "stream",
     "text": [
      "Prime\n"
     ]
    }
   ],
   "source": [
    "a=int(input())\n",
    "flag=True\n",
    "for i in range(2,a,1):\n",
    "    if (a%i==0):\n",
    "        flag=False\n",
    "if(flag==True):\n",
    "    print(\"Prime\")\n",
    "else:\n",
    "    print(\"Not Prime\")\n",
    "    "
   ]
  },
  {
   "cell_type": "markdown",
   "id": "538387f3-7a91-4b1c-afdd-030a4afc4183",
   "metadata": {},
   "source": [
    "## Else with loop"
   ]
  },
  {
   "cell_type": "code",
   "execution_count": 1,
   "id": "db25a3b3-cb93-4f1a-9645-21b22d5f1834",
   "metadata": {},
   "outputs": [
    {
     "name": "stdout",
     "output_type": "stream",
     "text": [
      "0\n",
      "1\n",
      "2\n",
      "3\n",
      "4\n",
      "5\n",
      "6\n",
      "7\n",
      "8\n",
      "9\n",
      "10\n",
      "I will be printed only in case if the loop is not terminated forcefully\n"
     ]
    }
   ],
   "source": [
    "i=0\n",
    "while i<=10:\n",
    "    print(i)\n",
    "    i=i+1\n",
    "else:\n",
    "    print(\"I will be printed only in case if the loop is not terminated forcefully\")"
   ]
  },
  {
   "cell_type": "code",
   "execution_count": 3,
   "id": "1ebef2e0-51f5-40b9-baf5-69e665ad5ef5",
   "metadata": {},
   "outputs": [
    {
     "name": "stdout",
     "output_type": "stream",
     "text": [
      "0\n",
      "1\n",
      "2\n",
      "3\n",
      "4\n",
      "5\n"
     ]
    }
   ],
   "source": [
    "i=0\n",
    "while i<=10:\n",
    "    print(i)\n",
    "    if i==5:\n",
    "        break\n",
    "    i=i+1\n",
    "else:\n",
    "    print(\"I will not be printed if the loop is terminated forcefully\")"
   ]
  },
  {
   "cell_type": "markdown",
   "id": "22428ef3-5f85-4b85-88b2-ae7a677f4a0f",
   "metadata": {},
   "source": [
    "## Checking prime number without using flag"
   ]
  },
  {
   "cell_type": "code",
   "execution_count": 9,
   "id": "19c6c082-3399-4e01-a9bb-4c45f59a622b",
   "metadata": {},
   "outputs": [
    {
     "name": "stdin",
     "output_type": "stream",
     "text": [
      " 22\n"
     ]
    },
    {
     "name": "stdout",
     "output_type": "stream",
     "text": [
      "Not prime\n"
     ]
    }
   ],
   "source": [
    "a=int(input())\n",
    "for i in range(2,a,1):\n",
    "   if a%i==0:\n",
    "       print(\"Not prime\")\n",
    "       break\n",
    "else: \n",
    "    print(\"Prime\")\n",
    "    "
   ]
  },
  {
   "cell_type": "markdown",
   "id": "1656d56c-ba0c-4039-9e18-19828e2b25c5",
   "metadata": {},
   "source": [
    "## Continue use"
   ]
  },
  {
   "cell_type": "code",
   "execution_count": 14,
   "id": "679c43ed-3936-47bd-9082-6476ca167eff",
   "metadata": {},
   "outputs": [
    {
     "name": "stdin",
     "output_type": "stream",
     "text": [
      " 16\n"
     ]
    },
    {
     "name": "stdout",
     "output_type": "stream",
     "text": [
      "2\n",
      "4\n",
      "6\n",
      "8\n",
      "10\n",
      "12\n",
      "16\n"
     ]
    }
   ],
   "source": [
    "#printing all the even number also not want to print the multiple of 7\n",
    "n=int(input())\n",
    "for i in range(2,n+1,2):\n",
    "    if i%7==0:\n",
    "        continue\n",
    "    print(i)"
   ]
  },
  {
   "cell_type": "markdown",
   "id": "036acd35-55c4-437d-9746-12499ec0ec33",
   "metadata": {},
   "source": [
    "## Pass"
   ]
  },
  {
   "cell_type": "code",
   "execution_count": 15,
   "id": "d10768c7-0dd1-4b62-aeda-df1d9701da64",
   "metadata": {},
   "outputs": [
    {
     "name": "stdin",
     "output_type": "stream",
     "text": [
      " 344\n"
     ]
    },
    {
     "name": "stdout",
     "output_type": "stream",
     "text": [
      "344\n"
     ]
    }
   ],
   "source": [
    "#pass is like when we want nothing to print or doing anything if we moved inside the loop or if statement JUST PASS IT\n",
    "n=int(input())\n",
    "if n>10:\n",
    "    pass\n",
    "print(n)"
   ]
  },
  {
   "cell_type": "code",
   "execution_count": 5,
   "id": "3bd6e3bc-afb7-4233-b90f-48b7575fd8ad",
   "metadata": {},
   "outputs": [
    {
     "name": "stdout",
     "output_type": "stream",
     "text": [
      "0\n",
      "1\n",
      "2\n",
      "3\n",
      "4\n",
      "5\n",
      "6\n",
      "7\n",
      "8\n",
      "9\n"
     ]
    }
   ],
   "source": [
    "n=10\n",
    "for i in range(0,n,1):\n",
    "    print(i)"
   ]
  },
  {
   "cell_type": "code",
   "execution_count": 6,
   "id": "87e49187-14f9-4636-a2ff-95a918748ff9",
   "metadata": {},
   "outputs": [
    {
     "ename": "SyntaxError",
     "evalue": "invalid syntax (2868578731.py, line 2)",
     "output_type": "error",
     "traceback": [
      "\u001b[1;36m  Cell \u001b[1;32mIn[6], line 2\u001b[1;36m\u001b[0m\n\u001b[1;33m    print(i) i for i in range(0,n):\u001b[0m\n\u001b[1;37m             ^\u001b[0m\n\u001b[1;31mSyntaxError\u001b[0m\u001b[1;31m:\u001b[0m invalid syntax\n"
     ]
    }
   ],
   "source": [
    "n=10\n",
    "print(i) i for i in range(0,n):"
   ]
  },
  {
   "cell_type": "code",
   "execution_count": null,
   "id": "88e8409c-8674-4d4f-afc1-5b2e279c6090",
   "metadata": {},
   "outputs": [],
   "source": []
  }
 ],
 "metadata": {
  "kernelspec": {
   "display_name": "Python 3 (ipykernel)",
   "language": "python",
   "name": "python3"
  },
  "language_info": {
   "codemirror_mode": {
    "name": "ipython",
    "version": 3
   },
   "file_extension": ".py",
   "mimetype": "text/x-python",
   "name": "python",
   "nbconvert_exporter": "python",
   "pygments_lexer": "ipython3",
   "version": "3.11.7"
  }
 },
 "nbformat": 4,
 "nbformat_minor": 5
}
