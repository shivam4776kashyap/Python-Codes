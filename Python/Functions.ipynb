{
 "cells": [
  {
   "cell_type": "markdown",
   "id": "f01f56db-c68f-4931-a198-8efcbf9611e1",
   "metadata": {},
   "source": [
    "## Factorial using Fxn"
   ]
  },
  {
   "cell_type": "code",
   "execution_count": 1,
   "id": "b26b70a0-669e-4945-aecd-a1007c9f65e4",
   "metadata": {},
   "outputs": [],
   "source": [
    "def fact(n):\n",
    "    m=1\n",
    "    for i in range(1,n+1):\n",
    "        m=m*i\n",
    "    return m"
   ]
  },
  {
   "cell_type": "code",
   "execution_count": 3,
   "id": "a981769b-37c0-4234-b76d-42a76fe0e1eb",
   "metadata": {},
   "outputs": [
    {
     "data": {
      "text/plain": [
       "24"
      ]
     },
     "execution_count": 3,
     "metadata": {},
     "output_type": "execute_result"
    }
   ],
   "source": [
    "fact(4)"
   ]
  },
  {
   "cell_type": "markdown",
   "id": "effb5367-62ae-43c5-b2d9-7918b90d07d2",
   "metadata": {},
   "source": [
    "## nCr using function"
   ]
  },
  {
   "cell_type": "markdown",
   "id": "cb96ed24-b062-4ace-89a4-9615b2831db1",
   "metadata": {},
   "source": [
    "n=int(input())\n",
    "r=int(input())\n",
    "n_fact=fact(n)\n",
    "r_fact=fact(r)\n",
    "n_r_fact=fact(n-r)\n",
    "ans=n_fact//(n_r_fact*r_fact)\n",
    "print(ans)"
   ]
  },
  {
   "cell_type": "markdown",
   "id": "10cdf1b4-653c-4005-9736-4abdd6d9fd58",
   "metadata": {},
   "source": [
    "## Prime Number"
   ]
  },
  {
   "cell_type": "code",
   "execution_count": 10,
   "id": "a9d2bbf8-db92-4025-a983-d08f338d209f",
   "metadata": {},
   "outputs": [],
   "source": [
    "def isPrime(n):\n",
    "    for i in range(2,n):\n",
    "        if n%i==0:\n",
    "            break\n",
    "    else:\n",
    "        return True\n",
    "    return False\n"
   ]
  },
  {
   "cell_type": "code",
   "execution_count": 17,
   "id": "480bf2be-350b-4fa0-9293-f84a76bc6189",
   "metadata": {},
   "outputs": [
    {
     "data": {
      "text/plain": [
       "True"
      ]
     },
     "execution_count": 17,
     "metadata": {},
     "output_type": "execute_result"
    }
   ],
   "source": [
    "isPrime(97)"
   ]
  },
  {
   "cell_type": "markdown",
   "id": "e18ee558-d3f7-4a6b-8844-ad2ca2ff2e1c",
   "metadata": {},
   "source": [
    "## Printing all prime numbers 2 to n"
   ]
  },
  {
   "cell_type": "code",
   "execution_count": 19,
   "id": "e92b1abf-713c-427f-915e-2a237d273e62",
   "metadata": {},
   "outputs": [],
   "source": [
    "def printprime(n):\n",
    "    for i in range (2,n):\n",
    "        for j in range (2,i):\n",
    "            if i%j==0:\n",
    "                break\n",
    "        else:\n",
    "            print(i)"
   ]
  },
  {
   "cell_type": "code",
   "execution_count": 21,
   "id": "6195e353-ad8b-4eba-a675-150e5f5e0c8f",
   "metadata": {},
   "outputs": [
    {
     "name": "stdout",
     "output_type": "stream",
     "text": [
      "2\n",
      "3\n",
      "5\n",
      "7\n",
      "11\n",
      "13\n",
      "17\n",
      "19\n",
      "23\n",
      "29\n",
      "31\n",
      "37\n",
      "41\n",
      "43\n",
      "47\n",
      "53\n",
      "59\n",
      "61\n",
      "67\n",
      "71\n",
      "73\n",
      "79\n",
      "83\n",
      "89\n",
      "97\n"
     ]
    }
   ],
   "source": [
    "printprime(100)"
   ]
  },
  {
   "cell_type": "markdown",
   "id": "1098b947-9b3b-4644-89e4-60783a13c86d",
   "metadata": {},
   "source": [
    "## Functions using list"
   ]
  },
  {
   "cell_type": "code",
   "execution_count": 4,
   "id": "9285c1d6-2087-4f23-acc9-e07a95a4a3cd",
   "metadata": {},
   "outputs": [
    {
     "data": {
      "text/plain": [
       "[6, 4, 5]"
      ]
     },
     "execution_count": 4,
     "metadata": {},
     "output_type": "execute_result"
    }
   ],
   "source": [
    "def increment_list_value(alist):\n",
    "    alist[0]=alist[0]+3\n",
    "blist=[3,4,5]\n",
    "increment_list_value(blist)\n",
    "blist"
   ]
  },
  {
   "cell_type": "code",
   "execution_count": 6,
   "id": "70c1bdd1-67c8-441b-9e0d-5060f025ae16",
   "metadata": {},
   "outputs": [
    {
     "data": {
      "text/plain": [
       "[3, 4, 5]"
      ]
     },
     "execution_count": 6,
     "metadata": {},
     "output_type": "execute_result"
    }
   ],
   "source": [
    "def changing_list(alist):\n",
    "    alist=[9,9]\n",
    "blist=[3,4,5]\n",
    "changing_list(blist)\n",
    "blist"
   ]
  },
  {
   "cell_type": "code",
   "execution_count": 9,
   "id": "c345c623-bb4e-4032-80d6-cb15c3039745",
   "metadata": {},
   "outputs": [
    {
     "data": {
      "text/plain": [
       "'def'"
      ]
     },
     "execution_count": 9,
     "metadata": {},
     "output_type": "execute_result"
    }
   ],
   "source": [
    "def changing_string(astring):\n",
    "    astring=\"abc\"\n",
    "dstring=\"def\"\n",
    "changing_string(dstring)\n",
    "dstring"
   ]
  },
  {
   "cell_type": "code",
   "execution_count": 10,
   "id": "1c15ff44-3bad-4b12-81a4-f652144ae274",
   "metadata": {},
   "outputs": [
    {
     "data": {
      "text/plain": [
       "[10, 9, 8, 7, 6, 5, 4, 3, 2, 1]"
      ]
     },
     "execution_count": 10,
     "metadata": {},
     "output_type": "execute_result"
    }
   ],
   "source": [
    "revlist=[ i for i in range(10,0,-1)]\n",
    "revlist"
   ]
  },
  {
   "cell_type": "markdown",
   "id": "3efbb127-112c-4b0d-bf32-7c3634a496d4",
   "metadata": {},
   "source": [
    "## Swapping neighbour of a list"
   ]
  },
  {
   "cell_type": "code",
   "execution_count": 8,
   "id": "c2bb8f06-167f-4e65-909b-0e7219f69309",
   "metadata": {},
   "outputs": [
    {
     "data": {
      "text/plain": [
       "[2, 1, 4, 3, 6, 5, 7]"
      ]
     },
     "execution_count": 8,
     "metadata": {},
     "output_type": "execute_result"
    }
   ],
   "source": [
    "def swap_consecutive(alist):\n",
    "    i=0\n",
    "    while i+1<len(alist):\n",
    "        alist[i]=alist[i]+alist[i+1]\n",
    "        alist[i+1]=alist[i]-alist[i+1]\n",
    "        alist[i]=alist[i]-alist[i+1]\n",
    "        i=i+2\n",
    "blist=[1,2,3,4,5,6,7]\n",
    "swap_consecutive(blist)\n",
    "blist"
   ]
  },
  {
   "cell_type": "code",
   "execution_count": 11,
   "id": "1e669d6a-d709-49fb-bfab-f461237cd00d",
   "metadata": {},
   "outputs": [
    {
     "data": {
      "text/plain": [
       "[2, 1, 4, 3, 6, 5]"
      ]
     },
     "execution_count": 11,
     "metadata": {},
     "output_type": "execute_result"
    }
   ],
   "source": [
    "def swap_consecutive(alist):\n",
    "    i=0\n",
    "    while i+1<len(alist):\n",
    "        alist[i],alist[i+1]=alist[i+1],alist[i]\n",
    "        i=i+2\n",
    "blist=[1,2,3,4,5,6]\n",
    "swap_consecutive(blist)\n",
    "blist"
   ]
  },
  {
   "cell_type": "code",
   "execution_count": null,
   "id": "5987536d-3260-4185-bd4e-dc20ea739cf8",
   "metadata": {},
   "outputs": [],
   "source": []
  },
  {
   "cell_type": "code",
   "execution_count": null,
   "id": "f6b5470b-6a94-421a-9db8-cd10d34219e4",
   "metadata": {},
   "outputs": [],
   "source": []
  },
  {
   "cell_type": "code",
   "execution_count": null,
   "id": "b12e08db-b16a-40b8-99b2-2a2648d84e63",
   "metadata": {},
   "outputs": [],
   "source": []
  }
 ],
 "metadata": {
  "kernelspec": {
   "display_name": "Python 3 (ipykernel)",
   "language": "python",
   "name": "python3"
  },
  "language_info": {
   "codemirror_mode": {
    "name": "ipython",
    "version": 3
   },
   "file_extension": ".py",
   "mimetype": "text/x-python",
   "name": "python",
   "nbconvert_exporter": "python",
   "pygments_lexer": "ipython3",
   "version": "3.11.7"
  }
 },
 "nbformat": 4,
 "nbformat_minor": 5
}
