{
 "cells": [
  {
   "cell_type": "markdown",
   "id": "ae241a13-ab18-4f2c-8042-600290e4a7ae",
   "metadata": {},
   "source": [
    "# Instance Attributes:\n",
    "## Attribute means variable and instance means object, bole toh variable bnana object ko use krke class ke liye  Or in simple  term Variable jo object wale box mei banaye ho"
   ]
  },
  {
   "cell_type": "code",
   "execution_count": 3,
   "id": "110428e2-0189-41f0-8e18-75aa9229edf2",
   "metadata": {},
   "outputs": [
    {
     "name": "stdout",
     "output_type": "stream",
     "text": [
      "10\n",
      "shivam\n",
      "20\n",
      "kashyap\n"
     ]
    }
   ],
   "source": [
    "class Shivam:\n",
    "    pass\n",
    "obj_box1=Shivam()\n",
    "obj_box2=Shivam()\n",
    "\n",
    "obj_box1.a=10\n",
    "obj_box1.str='shivam'\n",
    "\n",
    "obj_box2.b=20\n",
    "obj_box2.str='kashyap'\n",
    "\n",
    "print(obj_box1.a)\n",
    "print(obj_box1.str)\n",
    "print(obj_box2.b)\n",
    "print(obj_box2.str)\n"
   ]
  },
  {
   "cell_type": "markdown",
   "id": "13dd0f57-47b9-4d65-bbc4-83103eb2aa61",
   "metadata": {},
   "source": [
    "# Class Attribute: \n",
    "## Means attributes/variables jo class wale box mei banaye ho. Simple!!"
   ]
  },
  {
   "cell_type": "code",
   "execution_count": 7,
   "id": "c4ab4229-7f13-4830-be64-84a6c6b8f200",
   "metadata": {},
   "outputs": [
    {
     "name": "stdout",
     "output_type": "stream",
     "text": [
      "20\n",
      "30\n"
     ]
    }
   ],
   "source": [
    "# Pehla tareeka to create class attribute\n",
    "class Shivam:\n",
    "    a=20\n",
    "    b=30\n",
    "\n",
    "print(Shivam.a)\n",
    "print(Shivam.b)"
   ]
  },
  {
   "cell_type": "code",
   "execution_count": 9,
   "id": "10550529-2572-4640-9edf-793eca82d8c2",
   "metadata": {},
   "outputs": [
    {
     "name": "stdout",
     "output_type": "stream",
     "text": [
      "22\n"
     ]
    }
   ],
   "source": [
    "# Tareeka no. 2 to create class attribute/variable\n",
    "class Shivam:\n",
    "    pass\n",
    "\n",
    "Shivam.a=22\n",
    "Shivam.b=99\n",
    "print(Shivam.a)"
   ]
  },
  {
   "cell_type": "markdown",
   "id": "7dd57057-7293-4251-aeea-d85bafdf4027",
   "metadata": {},
   "source": [
    "# Single program in which both class attribute and object attributes are there"
   ]
  },
  {
   "cell_type": "code",
   "execution_count": 16,
   "id": "38c91add-ed0f-44f1-903f-7777d3446770",
   "metadata": {},
   "outputs": [
    {
     "name": "stdout",
     "output_type": "stream",
     "text": [
      "25\n",
      "Sunita Dhavale\n",
      "-----------------------------\n",
      "Sunita Dhavale\n",
      "-----------------------------\n"
     ]
    }
   ],
   "source": [
    "class Student:\n",
    "    t_student=20\n",
    "\n",
    "obj1=Student()\n",
    "obj1.name='Shivam'\n",
    "obj1.standard=17\n",
    "obj1.rollno=25\n",
    "\n",
    "Student.t_name=\"Sunita Dhavale\"\n",
    "\n",
    "print(obj1.rollno)\n",
    "print(Student.t_name)\n",
    "print(\"-----------------------------\")\n",
    "\n",
    "print(obj1.t_name)          # this is the vice versa case, (pehle neeche wala padh uske baad mujhe padh, thabi vice versa samaj ayega)\n",
    "print(\"-----------------------------\")\n",
    "\n",
    "# print(Student.name)   Acessing object ke box ka content using class attribute is not possible, this gives the error but vice versa is possible"
   ]
  },
  {
   "cell_type": "code",
   "execution_count": 19,
   "id": "15cb37f7-cf76-4307-9a1b-a66f6881f8f1",
   "metadata": {},
   "outputs": [
    {
     "name": "stdout",
     "output_type": "stream",
     "text": [
      "hello\n"
     ]
    }
   ],
   "source": [
    "#Testing purpose\n",
    "def printhello():\n",
    "    print('hello')\n",
    "\n",
    "printhello()"
   ]
  },
  {
   "cell_type": "markdown",
   "id": "38920060-c637-453b-9185-c4f8122331e6",
   "metadata": {},
   "source": [
    "# Instance  Method:\n",
    "## Method means function and instance means object, so object function jo ki define hota hai class ke andr but call hota hai object.fxnname() sei. Simple!!"
   ]
  },
  {
   "cell_type": "code",
   "execution_count": 20,
   "id": "1fe21eaa-2e33-4dcb-a8a2-0389d1ba4bd4",
   "metadata": {},
   "outputs": [
    {
     "name": "stdout",
     "output_type": "stream",
     "text": [
      "Hello Moto\n"
     ]
    }
   ],
   "source": [
    "class shivam:\n",
    "    def printhello(self):\n",
    "        print(\"Hello Moto\")\n",
    "\n",
    "obj1=shivam()\n",
    "obj1.printhello()"
   ]
  },
  {
   "cell_type": "code",
   "execution_count": 21,
   "id": "bfae13e6-dd72-4fe4-ab16-06333705231e",
   "metadata": {},
   "outputs": [
    {
     "name": "stdout",
     "output_type": "stream",
     "text": [
      "Kingo ko print kr\n"
     ]
    }
   ],
   "source": [
    "class shivam:\n",
    "    def print_string(self,str):\n",
    "        print(str)\n",
    "\n",
    "obj1=shivam()\n",
    "obj1.print_string(\"Kingo ko print kr\")"
   ]
  },
  {
   "cell_type": "markdown",
   "id": "3f661a1c-b011-4b27-8332-ab3ea919658e",
   "metadata": {},
   "source": [
    "# Difference between 'a' and 'self.a'\n",
    "## Jo 'a' hai voh local variable hai aur jo 'self.a' hai voh instance variable, aur local variable ka scope within the function thak hota hai, but jo instance variable hai usko hum different function under same class mei bhi access kr skte hai, SAMJHA bhas itna sa hee fark hai, SIMPLE!!"
   ]
  },
  {
   "cell_type": "code",
   "execution_count": 12,
   "id": "771886c9-7555-4e6f-b02d-e8a5baf8fb69",
   "metadata": {},
   "outputs": [
    {
     "name": "stdout",
     "output_type": "stream",
     "text": [
      "30\n"
     ]
    }
   ],
   "source": [
    "class learning3:\n",
    "    def a(self):\n",
    "        self.x=30\n",
    "        y=22\n",
    "\n",
    "    def b(self):\n",
    "        print(self.x)\n",
    "\n",
    "obj1=learning3()\n",
    "obj1.a()\n",
    "obj1.b()\n"
   ]
  },
  {
   "cell_type": "code",
   "execution_count": 6,
   "id": "c859e7f2-c2f5-4419-abc1-88fc342057de",
   "metadata": {},
   "outputs": [
    {
     "name": "stdout",
     "output_type": "stream",
     "text": [
      "20\n"
     ]
    }
   ],
   "source": [
    "# LEarning purpose \n",
    "class a:\n",
    "    def x(self):\n",
    "        self.b=20\n",
    "    def y(self):\n",
    "        print(self.b)\n",
    "obj1=a()\n",
    "obj1.x()\n",
    "obj1.y()"
   ]
  },
  {
   "cell_type": "code",
   "execution_count": 18,
   "id": "1c17d9b5-7aaf-4062-8c09-717401f5df2b",
   "metadata": {},
   "outputs": [
    {
     "name": "stdout",
     "output_type": "stream",
     "text": [
      "50\n"
     ]
    }
   ],
   "source": [
    "class learning4:\n",
    "    def a(self,value):\n",
    "        self.x=value\n",
    "        return self.x+10\n",
    "\n",
    "obj1=learning4()\n",
    "a=obj1.a(40)\n",
    "print(a)\n",
    "obj2=learning4()\n",
    "\n",
    "        "
   ]
  },
  {
   "cell_type": "markdown",
   "id": "b3f79d18-d9d5-49d0-a70a-627fec99d0ac",
   "metadata": {},
   "source": [
    "#  Constructor, means bole jesse he u create object, the __init__ function will call automatically. Simple!!"
   ]
  },
  {
   "cell_type": "code",
   "execution_count": 20,
   "id": "4b7b17e9-b7de-4515-9030-8beb8cb2b710",
   "metadata": {},
   "outputs": [
    {
     "name": "stdout",
     "output_type": "stream",
     "text": [
      "Hello Duniya\n"
     ]
    }
   ],
   "source": [
    "class learning1:\n",
    "    def __init__(self):\n",
    "        print(\"Hello Duniya\")\n",
    "\n",
    "obj1=learning1()"
   ]
  },
  {
   "cell_type": "code",
   "execution_count": 29,
   "id": "b0b08407-c22b-48b2-954d-95333cba1ff8",
   "metadata": {},
   "outputs": [
    {
     "name": "stdout",
     "output_type": "stream",
     "text": [
      "Sum of a and b is 30\n"
     ]
    },
    {
     "data": {
      "text/plain": [
       "{'a': 10, 'b': 20}"
      ]
     },
     "execution_count": 29,
     "metadata": {},
     "output_type": "execute_result"
    }
   ],
   "source": [
    "class learning2:\n",
    "    def __init__(self):\n",
    "        self.a=10\n",
    "        self.b=20\n",
    "\n",
    "    def sum_of_a_b(self):\n",
    "        print(\"Sum of a and b is\",self.a+self.b)\n",
    "\n",
    "obj1=learning2()\n",
    "obj1.sum_of_a_b()\n",
    "# obj1.__dict__\n",
    "obj2=learning2()\n",
    "obj2.__dict__"
   ]
  },
  {
   "cell_type": "code",
   "execution_count": 31,
   "id": "1675715e-f720-4d49-bc1b-0882a3c0b549",
   "metadata": {},
   "outputs": [
    {
     "name": "stdout",
     "output_type": "stream",
     "text": [
      "{'n': 'shivam', 'pn': 8219859018}\n"
     ]
    }
   ],
   "source": [
    "class learning3:\n",
    "    def __init__(self,name,number):\n",
    "        self.n=name\n",
    "        self.pn=number\n",
    "\n",
    "obj1=learning3('shivam',8219859018)\n",
    "print(obj1.__dict__)"
   ]
  },
  {
   "cell_type": "code",
   "execution_count": null,
   "id": "a13c1eb5-ebd4-4209-99c4-209b2a4adc26",
   "metadata": {},
   "outputs": [],
   "source": []
  },
  {
   "cell_type": "markdown",
   "id": "42d20f73-aaa1-411d-8fe6-f0dca364f6c8",
   "metadata": {},
   "source": [
    "# Acess Modifier\n",
    "## Public, Private (__a), Protected (_a)\n",
    "## In python nothing is private, everything is public. Because python is made for developers.\n",
    "If we want to make anything is private than we can add constraint to make it private."
   ]
  },
  {
   "cell_type": "code",
   "execution_count": 34,
   "id": "edb01ea9-7e0c-4fe3-8ca9-fdb0568706a5",
   "metadata": {},
   "outputs": [
    {
     "name": "stdout",
     "output_type": "stream",
     "text": [
      "Shivam Kashyap\n",
      "22091999\n",
      "shivam4776kashyap@gmail.com\n"
     ]
    }
   ],
   "source": [
    "class A:\n",
    "    def threevar(self):\n",
    "        self.name=\"Shivam Kashyap\"\n",
    "        self.dob=22091999\n",
    "        self.email=\"shivam4776kashyap@gmail.com\"\n",
    "\n",
    "obj1=A()\n",
    "obj1.threevar()\n",
    "\n",
    "print(obj1.name)\n",
    "print(obj1.dob)\n",
    "print(obj1.email)"
   ]
  },
  {
   "cell_type": "code",
   "execution_count": 35,
   "id": "909f7120-065d-4d4a-a0a6-5acb0c8ed3e0",
   "metadata": {},
   "outputs": [
    {
     "name": "stdout",
     "output_type": "stream",
     "text": [
      "Shivam Kashyap\n",
      "22091999\n"
     ]
    },
    {
     "ename": "AttributeError",
     "evalue": "'A' object has no attribute 'email'",
     "output_type": "error",
     "traceback": [
      "\u001b[1;31m---------------------------------------------------------------------------\u001b[0m",
      "\u001b[1;31mAttributeError\u001b[0m                            Traceback (most recent call last)",
      "Cell \u001b[1;32mIn[35], line 12\u001b[0m\n\u001b[0;32m     10\u001b[0m \u001b[38;5;28mprint\u001b[39m(obj1\u001b[38;5;241m.\u001b[39mname)\n\u001b[0;32m     11\u001b[0m \u001b[38;5;28mprint\u001b[39m(obj1\u001b[38;5;241m.\u001b[39mdob)\n\u001b[1;32m---> 12\u001b[0m \u001b[38;5;28mprint\u001b[39m(obj1\u001b[38;5;241m.\u001b[39memail)\n",
      "\u001b[1;31mAttributeError\u001b[0m: 'A' object has no attribute 'email'"
     ]
    }
   ],
   "source": [
    "class A:\n",
    "    def threevar(self):\n",
    "        self.name=\"Shivam Kashyap\"\n",
    "        self.dob=22091999\n",
    "        self.__email=\"shivam4776kashyap@gmail.com\"\n",
    "\n",
    "obj1=A()\n",
    "obj1.threevar()\n",
    "\n",
    "print(obj1.name)\n",
    "print(obj1.dob)\n",
    "print(obj1.email)  # Dekha double underscore lagate he kesse private kr diya mail ko "
   ]
  },
  {
   "cell_type": "code",
   "execution_count": 62,
   "id": "2057a379-d394-4850-af84-3f98c27ad5fc",
   "metadata": {},
   "outputs": [
    {
     "name": "stdout",
     "output_type": "stream",
     "text": [
      "Shivam Kashyap\n",
      "22091999\n",
      "shivam4776kashyap@gmail.com\n"
     ]
    }
   ],
   "source": [
    "class A:\n",
    "    def publicfxn(self):\n",
    "        return self.__email\n",
    "        \n",
    "    def threevar(self):\n",
    "        self.name=\"Shivam Kashyap\"\n",
    "        self.dob=22091999\n",
    "        self.__email=\"shivam4776kashyap@gmail.com\"\n",
    "\n",
    "obj1=A()\n",
    "obj1.threevar()\n",
    "\n",
    "\n",
    "print(obj1.name)\n",
    "print(obj1.dob)\n",
    "a=obj1.publicfxn()  # dekha laparawahi ka nateeza kesse publicfxn ki help se private banaye hue variable ko access kr liya Misfeasor kahi ka\n",
    "print(a)"
   ]
  },
  {
   "cell_type": "markdown",
   "id": "761303df-75d1-4bcc-aece-25da572a59f9",
   "metadata": {},
   "source": [
    "# Name Mangling: obj._className__privateAttributeName\n",
    "## iss above format ko use krke we can access the private variable"
   ]
  },
  {
   "cell_type": "code",
   "execution_count": 64,
   "id": "589ff449-1ead-4fdf-9154-16a1deb04963",
   "metadata": {},
   "outputs": [
    {
     "name": "stdout",
     "output_type": "stream",
     "text": [
      "Shivam Kashyap\n",
      "22091999\n",
      "shivam4776kashyap@gmail.com\n"
     ]
    }
   ],
   "source": [
    "class A:\n",
    "    def threevar(self):\n",
    "        self.name=\"Shivam Kashyap\"\n",
    "        self.dob=22091999\n",
    "        self.__email=\"shivam4776kashyap@gmail.com\"\n",
    "\n",
    "obj1=A()\n",
    "obj1.threevar()\n",
    "\n",
    "print(obj1.name)\n",
    "print(obj1.dob)\n",
    "print(obj1._A__email) # This is Name Mangling."
   ]
  },
  {
   "cell_type": "code",
   "execution_count": null,
   "id": "2ea03f3b-6012-451b-94ee-274b2de5bc90",
   "metadata": {},
   "outputs": [],
   "source": []
  },
  {
   "cell_type": "markdown",
   "id": "1ce43010-3465-4d22-91f2-2e73c28045ab",
   "metadata": {},
   "source": [
    "# Class Method"
   ]
  },
  {
   "cell_type": "code",
   "execution_count": 65,
   "id": "5f4a601e-db80-484e-905e-4105f68bbe78",
   "metadata": {},
   "outputs": [
    {
     "name": "stdout",
     "output_type": "stream",
     "text": [
      "20\n"
     ]
    },
    {
     "ename": "AttributeError",
     "evalue": "'B' object has no attribute 'beta'",
     "output_type": "error",
     "traceback": [
      "\u001b[1;31m---------------------------------------------------------------------------\u001b[0m",
      "\u001b[1;31mAttributeError\u001b[0m                            Traceback (most recent call last)",
      "Cell \u001b[1;32mIn[65], line 7\u001b[0m\n\u001b[0;32m      5\u001b[0m obj1\u001b[38;5;241m=\u001b[39mB()\n\u001b[0;32m      6\u001b[0m \u001b[38;5;28mprint\u001b[39m(obj1\u001b[38;5;241m.\u001b[39malpha)\n\u001b[1;32m----> 7\u001b[0m \u001b[38;5;28mprint\u001b[39m(obj1\u001b[38;5;241m.\u001b[39mbeta)\n",
      "\u001b[1;31mAttributeError\u001b[0m: 'B' object has no attribute 'beta'"
     ]
    }
   ],
   "source": [
    "class B:\n",
    "    alpha=20\n",
    "    __beta=30\n",
    "\n",
    "obj1=B()\n",
    "print(obj1.alpha)\n",
    "print(obj1.beta) # Dekha kesse underscore lagate hee beta private class variable bann gya aur class ke bahar access nhi ho paa rha \n",
    "        "
   ]
  },
  {
   "cell_type": "code",
   "execution_count": 52,
   "id": "40eaae2a-f5be-44cd-9125-5791b1159279",
   "metadata": {},
   "outputs": [
    {
     "name": "stdout",
     "output_type": "stream",
     "text": [
      "20\n",
      "30\n"
     ]
    }
   ],
   "source": [
    "class B:\n",
    "    alpha=20\n",
    "    __beta=30\n",
    "\n",
    "    def get_beta(self):\n",
    "        return B.__beta # Dekha kesse eek simple function ke help sei I access the private class attribute\n",
    "\n",
    "obj1=B()\n",
    "betaValue=obj1.get_beta()\n",
    "print(obj1.alpha)\n",
    "print(betaValue)"
   ]
  },
  {
   "cell_type": "code",
   "execution_count": 61,
   "id": "4674e4a2-4ff8-4eb0-b2b2-4dc12cc32399",
   "metadata": {},
   "outputs": [
    {
     "name": "stdout",
     "output_type": "stream",
     "text": [
      "20\n",
      "30\n",
      "30\n"
     ]
    }
   ],
   "source": [
    "class B:\n",
    "    alpha=20\n",
    "    __beta=30\n",
    "\n",
    "obj1=B()\n",
    "print(obj1.alpha)\n",
    "print(obj1._B__beta) # printing using objectName.NameManglingFormat\n",
    "print(B._B__beta) # printing using className.NameManglingFormat\n"
   ]
  },
  {
   "cell_type": "code",
   "execution_count": 58,
   "id": "cdd64856-33cb-4f77-a712-ced9622d2ccc",
   "metadata": {},
   "outputs": [
    {
     "name": "stdout",
     "output_type": "stream",
     "text": [
      "I'm a Instance method\n"
     ]
    }
   ],
   "source": [
    "# Class Method\n",
    "class X:\n",
    "    def classMethodBanega(self):\n",
    "        print(\"I'm a Instance method\")\n",
    "\n",
    "obj1=X()\n",
    "obj1.classMethodBanega()\n"
   ]
  },
  {
   "cell_type": "code",
   "execution_count": 56,
   "id": "e5d70627-7eac-4aeb-aabc-89cf5c49970d",
   "metadata": {},
   "outputs": [
    {
     "name": "stdout",
     "output_type": "stream",
     "text": [
      "I'm a class method\n",
      "I'm a class method\n"
     ]
    }
   ],
   "source": [
    "class X:\n",
    "    @classmethod  # Decorator: iske lagate hee apni instance method, class method bann gya\n",
    "    def classMethodBanega(cls):\n",
    "        print(\"I'm a class method\")\n",
    "\n",
    "obj1=X()\n",
    "X.classMethodBanega()\n",
    "obj1.classMethodBanega()"
   ]
  },
  {
   "cell_type": "markdown",
   "id": "2433978c-9d29-492a-8530-1c0b584cc9b7",
   "metadata": {},
   "source": [
    "# Protected\n",
    "## It is something that which is little bit linent as compare to Private and little bit strict as compare to Public access specifier\n",
    "## protected use krne ka matlab we cannot access the variable outside the class but we can access the variable in different function which is in inside the same class"
   ]
  },
  {
   "cell_type": "code",
   "execution_count": null,
   "id": "7e71b6f7-e8af-4a31-9f81-66736775b172",
   "metadata": {},
   "outputs": [],
   "source": []
  },
  {
   "cell_type": "code",
   "execution_count": 1,
   "id": "2134ae83-6898-46d8-a11a-a15f369d4215",
   "metadata": {},
   "outputs": [
    {
     "name": "stdout",
     "output_type": "stream",
     "text": [
      "<__main__.Fraction object at 0x00000206230BB350>\n"
     ]
    }
   ],
   "source": [
    "# Fraction Class\n",
    "class Fraction:\n",
    "    def printfxn(self,num,den):\n",
    "        if  self.num==0:\n",
    "            print(0)\n",
    "        elif self.den==0:\n",
    "            #throw error\n",
    "            self.den=1\n",
    "\n",
    "    def simplify(self):\n",
    "        if \n",
    "\n",
    "obj1=Fraction()\n",
    "print(obj1)"
   ]
  },
  {
   "cell_type": "code",
   "execution_count": null,
   "id": "d538b378-29f7-4ab4-9618-94eb75951939",
   "metadata": {},
   "outputs": [],
   "source": []
  },
  {
   "cell_type": "code",
   "execution_count": null,
   "id": "aeb7aec1-dd08-4ad0-a785-42ddce022376",
   "metadata": {},
   "outputs": [],
   "source": []
  },
  {
   "cell_type": "code",
   "execution_count": null,
   "id": "ffabe8b6-d780-48cd-a4df-a75a4af9340a",
   "metadata": {},
   "outputs": [],
   "source": []
  },
  {
   "cell_type": "code",
   "execution_count": null,
   "id": "b7631a34-d655-426d-a177-521d7cdbee08",
   "metadata": {},
   "outputs": [],
   "source": []
  },
  {
   "cell_type": "code",
   "execution_count": null,
   "id": "d3cc4ad7-01da-486e-bd63-4730fb826e7c",
   "metadata": {},
   "outputs": [],
   "source": []
  },
  {
   "cell_type": "code",
   "execution_count": null,
   "id": "b997524f-2424-46ef-a423-20d37ec59028",
   "metadata": {},
   "outputs": [],
   "source": []
  },
  {
   "cell_type": "code",
   "execution_count": null,
   "id": "8a25b8b2-48e6-4dec-aa0d-b2be7cfcd9f0",
   "metadata": {},
   "outputs": [],
   "source": []
  },
  {
   "cell_type": "code",
   "execution_count": null,
   "id": "6d0188a6-c448-4eab-8dcc-e10fbae42f8c",
   "metadata": {},
   "outputs": [],
   "source": []
  },
  {
   "cell_type": "code",
   "execution_count": null,
   "id": "23e61721-8c75-41f9-817e-abc77257ea15",
   "metadata": {},
   "outputs": [],
   "source": []
  },
  {
   "cell_type": "code",
   "execution_count": null,
   "id": "d377214b-e2bf-4e4a-964a-4f4d93f637db",
   "metadata": {},
   "outputs": [],
   "source": []
  },
  {
   "cell_type": "code",
   "execution_count": null,
   "id": "c18ea0fc-664c-45ea-9a74-70d37c02bd89",
   "metadata": {},
   "outputs": [],
   "source": []
  },
  {
   "cell_type": "code",
   "execution_count": 63,
   "id": "376e4d1c-a8fa-4aeb-965e-5d13d744752b",
   "metadata": {},
   "outputs": [
    {
     "name": "stdout",
     "output_type": "stream",
     "text": [
      "10\n"
     ]
    }
   ],
   "source": [
    "a=10\n",
    "print(a)"
   ]
  },
  {
   "cell_type": "code",
   "execution_count": null,
   "id": "2db2ae5d-e0de-43b6-bbd2-5d1d4c7ee7a2",
   "metadata": {},
   "outputs": [],
   "source": []
  }
 ],
 "metadata": {
  "kernelspec": {
   "display_name": "Python 3 (ipykernel)",
   "language": "python",
   "name": "python3"
  },
  "language_info": {
   "codemirror_mode": {
    "name": "ipython",
    "version": 3
   },
   "file_extension": ".py",
   "mimetype": "text/x-python",
   "name": "python",
   "nbconvert_exporter": "python",
   "pygments_lexer": "ipython3",
   "version": "3.11.7"
  }
 },
 "nbformat": 4,
 "nbformat_minor": 5
}
