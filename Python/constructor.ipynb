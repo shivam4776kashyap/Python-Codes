{
 "cells": [
  {
   "cell_type": "markdown",
   "id": "825bdc92-4454-4f6b-9314-f1680c77fe2c",
   "metadata": {},
   "source": [
    "## Constructors"
   ]
  },
  {
   "cell_type": "code",
   "execution_count": 3,
   "id": "635aa6e4-6398-445b-af54-77223159dc4c",
   "metadata": {},
   "outputs": [],
   "source": [
    "class A:\n",
    "    def __init__(self):\n",
    "        print(\"Hello\")\n",
    "\n",
    "obj1=A()"
   ]
  },
  {
   "cell_type": "code",
   "execution_count": 9,
   "id": "b1cba69f-ef6e-42d5-9d0f-0352da8ae6e1",
   "metadata": {},
   "outputs": [],
   "source": [
    "class B:\n",
    "    def __init__(self):\n",
    "        self.name=\"Shivam\"\n",
    "        self.age=24\n",
    "        self.rn=25\n",
    "\n",
    "\n",
    "obj2=B()\n",
    "obj3=B()"
   ]
  },
  {
   "cell_type": "code",
   "execution_count": 10,
   "id": "c677cbc5-aae1-40dd-819a-01b723c69711",
   "metadata": {},
   "outputs": [
    {
     "name": "stdout",
     "output_type": "stream",
     "text": [
      "{'name': 'Shivam', 'age': 24, 'rn': 25}\n",
      "{'name': 'Shivam', 'age': 24, 'rn': 25}\n"
     ]
    }
   ],
   "source": [
    "print(obj2.__dict__)\n",
    "print(obj3.__dict__)"
   ]
  },
  {
   "cell_type": "code",
   "execution_count": 13,
   "id": "b98033ef-16e5-4525-88f0-65c08830e3ec",
   "metadata": {},
   "outputs": [],
   "source": [
    "class C:\n",
    "    def __init__(self, name, age, rollno):\n",
    "        self.name=name\n",
    "        self.age=age\n",
    "        self.rn=rollno\n",
    "\n",
    "\n",
    "obj4=C(\"Shivam\",24,232625)\n",
    "obj5=C(\"Sahil\",25,4544)"
   ]
  },
  {
   "cell_type": "code",
   "execution_count": 14,
   "id": "50a40845-ecf6-44b7-b1d3-45855dc5b49c",
   "metadata": {},
   "outputs": [
    {
     "name": "stdout",
     "output_type": "stream",
     "text": [
      "{'name': 'Shivam', 'age': 24, 'rn': 232625}\n",
      "{'name': 'Sahil', 'age': 25, 'rn': 4544}\n"
     ]
    }
   ],
   "source": [
    "print(obj4.__dict__)\n",
    "print(obj5.__dict__)"
   ]
  },
  {
   "cell_type": "code",
   "execution_count": null,
   "id": "e94d84b8-f81d-4fef-ad72-a9d92f7dc616",
   "metadata": {},
   "outputs": [],
   "source": []
  },
  {
   "cell_type": "code",
   "execution_count": null,
   "id": "0f0db4aa-a4a7-426d-98cc-33db78bee979",
   "metadata": {},
   "outputs": [],
   "source": []
  },
  {
   "cell_type": "code",
   "execution_count": null,
   "id": "b49228e9-7939-4f24-b7a7-b18d64afffa3",
   "metadata": {},
   "outputs": [],
   "source": []
  }
 ],
 "metadata": {
  "kernelspec": {
   "display_name": "Python 3 (ipykernel)",
   "language": "python",
   "name": "python3"
  },
  "language_info": {
   "codemirror_mode": {
    "name": "ipython",
    "version": 3
   },
   "file_extension": ".py",
   "mimetype": "text/x-python",
   "name": "python",
   "nbconvert_exporter": "python",
   "pygments_lexer": "ipython3",
   "version": "3.11.7"
  }
 },
 "nbformat": 4,
 "nbformat_minor": 5
}
