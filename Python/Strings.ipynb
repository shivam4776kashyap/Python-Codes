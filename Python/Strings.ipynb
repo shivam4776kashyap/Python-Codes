{
 "cells": [
  {
   "cell_type": "markdown",
   "id": "6d033545-1f55-488f-b5ac-456a4aed43d8",
   "metadata": {},
   "source": [
    "# Strings"
   ]
  },
  {
   "cell_type": "code",
   "execution_count": 3,
   "id": "50778374-e396-43fb-9530-4c284ab38aac",
   "metadata": {},
   "outputs": [],
   "source": [
    "a=\"abc def\""
   ]
  },
  {
   "cell_type": "code",
   "execution_count": 6,
   "id": "289ae0bf-609d-4844-8286-89b71c4b00ab",
   "metadata": {},
   "outputs": [
    {
     "data": {
      "text/plain": [
       "'e'"
      ]
     },
     "execution_count": 6,
     "metadata": {},
     "output_type": "execute_result"
    }
   ],
   "source": [
    "a[5]"
   ]
  },
  {
   "cell_type": "code",
   "execution_count": 7,
   "id": "8cf5d04d-2775-415a-a0a6-81ae09e4e860",
   "metadata": {},
   "outputs": [
    {
     "data": {
      "text/plain": [
       "str"
      ]
     },
     "execution_count": 7,
     "metadata": {},
     "output_type": "execute_result"
    }
   ],
   "source": [
    "type(a)"
   ]
  },
  {
   "cell_type": "code",
   "execution_count": 8,
   "id": "03a62e5a-f698-43e6-8f0c-7b638c199e07",
   "metadata": {},
   "outputs": [
    {
     "data": {
      "text/plain": [
       "str"
      ]
     },
     "execution_count": 8,
     "metadata": {},
     "output_type": "execute_result"
    }
   ],
   "source": [
    "type(a[0])"
   ]
  },
  {
   "cell_type": "code",
   "execution_count": 9,
   "id": "fb33182b-9d4f-4fb4-8594-d7338096cef6",
   "metadata": {},
   "outputs": [],
   "source": [
    "c='r'"
   ]
  },
  {
   "cell_type": "code",
   "execution_count": 10,
   "id": "e548143f-60d5-408e-89d7-693234e75eef",
   "metadata": {},
   "outputs": [
    {
     "data": {
      "text/plain": [
       "str"
      ]
     },
     "execution_count": 10,
     "metadata": {},
     "output_type": "execute_result"
    }
   ],
   "source": [
    "type(c)"
   ]
  },
  {
   "cell_type": "code",
   "execution_count": 12,
   "id": "95265027-39d3-4fe8-a88b-8c6fb2216e4c",
   "metadata": {},
   "outputs": [
    {
     "name": "stdout",
     "output_type": "stream",
     "text": [
      "a\n",
      "b\n",
      "c\n",
      " \n",
      "d\n",
      "e\n",
      "f\n"
     ]
    }
   ],
   "source": [
    "for i in a:\n",
    "    print(i)"
   ]
  },
  {
   "cell_type": "code",
   "execution_count": 97,
   "id": "9c43f9e5-c1be-47a4-978a-840e99741272",
   "metadata": {},
   "outputs": [],
   "source": [
    "a=\"shivam\"\n",
    "b=\"Kashyap\""
   ]
  },
  {
   "cell_type": "code",
   "execution_count": 99,
   "id": "a2ef8881-ff29-49f9-83c1-00ee1b237b1d",
   "metadata": {},
   "outputs": [
    {
     "data": {
      "text/plain": [
       "'shivamKashyap'"
      ]
     },
     "execution_count": 99,
     "metadata": {},
     "output_type": "execute_result"
    }
   ],
   "source": [
    "a+b\n"
   ]
  },
  {
   "cell_type": "code",
   "execution_count": 24,
   "id": "4f5d9440-1306-480a-bfb6-2469a9669cde",
   "metadata": {},
   "outputs": [
    {
     "data": {
      "text/plain": [
       "True"
      ]
     },
     "execution_count": 24,
     "metadata": {},
     "output_type": "execute_result"
    }
   ],
   "source": [
    "a>b"
   ]
  },
  {
   "cell_type": "code",
   "execution_count": 27,
   "id": "eaffff3a-8c63-4511-8886-7812b384d2ef",
   "metadata": {},
   "outputs": [],
   "source": [
    "a='shivam'\n",
    "b=\"kingo\""
   ]
  },
  {
   "cell_type": "code",
   "execution_count": 28,
   "id": "9b56a6c3-d8e9-4214-b4a4-7ecf6b4ad2b3",
   "metadata": {},
   "outputs": [
    {
     "data": {
      "text/plain": [
       "'shivamkingo'"
      ]
     },
     "execution_count": 28,
     "metadata": {},
     "output_type": "execute_result"
    }
   ],
   "source": [
    "a+b"
   ]
  },
  {
   "cell_type": "code",
   "execution_count": 29,
   "id": "8692ece7-00d6-45f1-977e-03b3fdc6c445",
   "metadata": {},
   "outputs": [],
   "source": [
    "a='a'\n",
    "b='b'"
   ]
  },
  {
   "cell_type": "code",
   "execution_count": 30,
   "id": "42fdf1b5-1a43-47c2-9982-fabea71a17bb",
   "metadata": {},
   "outputs": [
    {
     "data": {
      "text/plain": [
       "False"
      ]
     },
     "execution_count": 30,
     "metadata": {},
     "output_type": "execute_result"
    }
   ],
   "source": [
    "a>b"
   ]
  },
  {
   "cell_type": "code",
   "execution_count": 31,
   "id": "9adcebb6-29ee-4f40-b59c-ba0c96ca89a6",
   "metadata": {},
   "outputs": [],
   "source": [
    "z='z'"
   ]
  },
  {
   "cell_type": "code",
   "execution_count": 32,
   "id": "8f651309-fd2d-4671-8592-e23b7fea1550",
   "metadata": {},
   "outputs": [
    {
     "data": {
      "text/plain": [
       "False"
      ]
     },
     "execution_count": 32,
     "metadata": {},
     "output_type": "execute_result"
    }
   ],
   "source": [
    "a>z"
   ]
  },
  {
   "cell_type": "code",
   "execution_count": 33,
   "id": "698c9cd0-86a5-43e2-9c05-3f2465593f37",
   "metadata": {},
   "outputs": [],
   "source": [
    "z=\"z\""
   ]
  },
  {
   "cell_type": "code",
   "execution_count": 34,
   "id": "67289c2d-77fc-4e46-bed6-4a0c29cc8f51",
   "metadata": {},
   "outputs": [
    {
     "data": {
      "text/plain": [
       "False"
      ]
     },
     "execution_count": 34,
     "metadata": {},
     "output_type": "execute_result"
    }
   ],
   "source": [
    "a>z"
   ]
  },
  {
   "cell_type": "code",
   "execution_count": 35,
   "id": "c9b8b4f6-0684-4010-b303-640239180788",
   "metadata": {},
   "outputs": [],
   "source": [
    "Z=\"Z\""
   ]
  },
  {
   "cell_type": "code",
   "execution_count": 36,
   "id": "600eec46-6f5d-47b1-82b7-254f6739e08b",
   "metadata": {},
   "outputs": [
    {
     "data": {
      "text/plain": [
       "True"
      ]
     },
     "execution_count": 36,
     "metadata": {},
     "output_type": "execute_result"
    }
   ],
   "source": [
    "a>Z"
   ]
  },
  {
   "cell_type": "code",
   "execution_count": 3,
   "id": "b0292e44-1492-44df-ad55-fbdc4a4eb975",
   "metadata": {},
   "outputs": [],
   "source": [
    "a=\"This is Shivam's  pen, and he said \\\"Clarity is power\\\"  \""
   ]
  },
  {
   "cell_type": "code",
   "execution_count": 4,
   "id": "59096e9f-9e79-44f6-a5fc-0e83d890b311",
   "metadata": {},
   "outputs": [
    {
     "data": {
      "text/plain": [
       "'This is Shivam\\'s  pen, and he said \"Clarity is power\"  '"
      ]
     },
     "execution_count": 4,
     "metadata": {},
     "output_type": "execute_result"
    }
   ],
   "source": [
    "a"
   ]
  },
  {
   "cell_type": "markdown",
   "id": "f9db697f-77f6-4640-85fe-208e27c83cd4",
   "metadata": {},
   "source": [
    "# Various functions of string"
   ]
  },
  {
   "cell_type": "code",
   "execution_count": 69,
   "id": "0eacd2ff-340d-47a1-ba52-f198d7bc2b63",
   "metadata": {},
   "outputs": [],
   "source": [
    "a= \"this is a string.\""
   ]
  },
  {
   "cell_type": "code",
   "execution_count": 70,
   "id": "d2afe7ff-210e-4da4-a23e-181c70591de3",
   "metadata": {},
   "outputs": [
    {
     "data": {
      "text/plain": [
       "['this', 'is', 'a', 'string.']"
      ]
     },
     "execution_count": 70,
     "metadata": {},
     "output_type": "execute_result"
    }
   ],
   "source": [
    "# Split\n",
    "a.split()"
   ]
  },
  {
   "cell_type": "code",
   "execution_count": 74,
   "id": "083c7016-cd01-4d1e-b1bd-037ca7f56905",
   "metadata": {},
   "outputs": [
    {
     "data": {
      "text/plain": [
       "['this is a ', 'ring.']"
      ]
     },
     "execution_count": 74,
     "metadata": {},
     "output_type": "execute_result"
    }
   ],
   "source": [
    "a.split(\"st\")"
   ]
  },
  {
   "cell_type": "code",
   "execution_count": 75,
   "id": "3911de2e-1805-4c49-bcef-ee4f5a61140d",
   "metadata": {},
   "outputs": [
    {
     "data": {
      "text/plain": [
       "'thik ik a ktring.'"
      ]
     },
     "execution_count": 75,
     "metadata": {},
     "output_type": "execute_result"
    }
   ],
   "source": [
    "a.replace('s','k')"
   ]
  },
  {
   "cell_type": "code",
   "execution_count": 78,
   "id": "6af86c4b-cbc8-4055-8f46-f0a82135608f",
   "metadata": {},
   "outputs": [
    {
     "data": {
      "text/plain": [
       "-1"
      ]
     },
     "execution_count": 78,
     "metadata": {},
     "output_type": "execute_result"
    }
   ],
   "source": [
    "a.find('ki')  #-1 means string ki is not present in a"
   ]
  },
  {
   "cell_type": "code",
   "execution_count": 79,
   "id": "6ab88d03-0199-482d-bfdf-2350d270cc9d",
   "metadata": {},
   "outputs": [
    {
     "data": {
      "text/plain": [
       "'this is a string.'"
      ]
     },
     "execution_count": 79,
     "metadata": {},
     "output_type": "execute_result"
    }
   ],
   "source": [
    "a.lower()"
   ]
  },
  {
   "cell_type": "code",
   "execution_count": 82,
   "id": "62dd370d-5719-453a-b05b-5c3bff5cd150",
   "metadata": {},
   "outputs": [
    {
     "data": {
      "text/plain": [
       "'THIS IS A STRING.'"
      ]
     },
     "execution_count": 82,
     "metadata": {},
     "output_type": "execute_result"
    }
   ],
   "source": [
    "a.upper()"
   ]
  },
  {
   "cell_type": "code",
   "execution_count": 83,
   "id": "9e4e64a3-d678-4fb8-ba2e-0a7ace5347f1",
   "metadata": {},
   "outputs": [
    {
     "data": {
      "text/plain": [
       "True"
      ]
     },
     "execution_count": 83,
     "metadata": {},
     "output_type": "execute_result"
    }
   ],
   "source": [
    "a.islower()"
   ]
  },
  {
   "cell_type": "code",
   "execution_count": 85,
   "id": "c96e2194-b205-48ae-b033-07797934c779",
   "metadata": {},
   "outputs": [
    {
     "data": {
      "text/plain": [
       "False"
      ]
     },
     "execution_count": 85,
     "metadata": {},
     "output_type": "execute_result"
    }
   ],
   "source": [
    "a.isupper()"
   ]
  },
  {
   "cell_type": "code",
   "execution_count": 92,
   "id": "dca173ec-a179-4c50-ac21-f9c725320088",
   "metadata": {},
   "outputs": [
    {
     "data": {
      "text/plain": [
       "False"
      ]
     },
     "execution_count": 92,
     "metadata": {},
     "output_type": "execute_result"
    }
   ],
   "source": [
    "a.isalpha()# it will check that all the words in the strings are character \n",
    "           # or not, if there is any space than also it returns false which means all words are not character"
   ]
  },
  {
   "cell_type": "code",
   "execution_count": 95,
   "id": "763f8189-9187-40fc-817e-9befc5dc1e73",
   "metadata": {},
   "outputs": [
    {
     "data": {
      "text/plain": [
       "True"
      ]
     },
     "execution_count": 95,
     "metadata": {},
     "output_type": "execute_result"
    }
   ],
   "source": [
    "a.startswith(\"this\")"
   ]
  },
  {
   "cell_type": "code",
   "execution_count": 96,
   "id": "b01664e1-0a8d-456a-9e43-e8c461d8d56d",
   "metadata": {},
   "outputs": [
    {
     "data": {
      "text/plain": [
       "False"
      ]
     },
     "execution_count": 96,
     "metadata": {},
     "output_type": "execute_result"
    }
   ],
   "source": [
    "a.endswith(\"k\")"
   ]
  },
  {
   "cell_type": "markdown",
   "id": "3c185c03-db21-41cc-9d13-19573eabe4b9",
   "metadata": {},
   "source": [
    "# String Slicing"
   ]
  },
  {
   "cell_type": "code",
   "execution_count": 1,
   "id": "2fac2e2e-ffb2-4684-9d98-1126735cd7de",
   "metadata": {},
   "outputs": [],
   "source": [
    "a=\"shivamkashyap slicing technique\""
   ]
  },
  {
   "cell_type": "code",
   "execution_count": 2,
   "id": "e772828d-4e92-47d6-a6a7-42c706eac50f",
   "metadata": {},
   "outputs": [
    {
     "data": {
      "text/plain": [
       "'shivamkashyap slicing technique'"
      ]
     },
     "execution_count": 2,
     "metadata": {},
     "output_type": "execute_result"
    }
   ],
   "source": [
    "a[:]"
   ]
  },
  {
   "cell_type": "code",
   "execution_count": 3,
   "id": "bb2686df-8d97-4c89-8293-f05cb185e0f7",
   "metadata": {},
   "outputs": [
    {
     "data": {
      "text/plain": [
       "'amkashyap slicing technique'"
      ]
     },
     "execution_count": 3,
     "metadata": {},
     "output_type": "execute_result"
    }
   ],
   "source": [
    "a[4:]"
   ]
  },
  {
   "cell_type": "code",
   "execution_count": 4,
   "id": "e97d6516-5ba1-4853-842f-6fff6feb7924",
   "metadata": {},
   "outputs": [
    {
     "data": {
      "text/plain": [
       "'shivamkash'"
      ]
     },
     "execution_count": 4,
     "metadata": {},
     "output_type": "execute_result"
    }
   ],
   "source": [
    "a[:10]"
   ]
  },
  {
   "cell_type": "code",
   "execution_count": 7,
   "id": "b97ade3d-599c-40ee-b6c7-44daa1f98ffc",
   "metadata": {},
   "outputs": [
    {
     "data": {
      "text/plain": [
       "'iaksypsiigtcnqe'"
      ]
     },
     "execution_count": 7,
     "metadata": {},
     "output_type": "execute_result"
    }
   ],
   "source": [
    "a[2::2]# it will print one character by 1 skipping"
   ]
  },
  {
   "cell_type": "code",
   "execution_count": 8,
   "id": "351be1b4-7bd0-4ff2-a88a-f071c7da9d11",
   "metadata": {},
   "outputs": [
    {
     "data": {
      "text/plain": [
       "'yhsakmavi'"
      ]
     },
     "execution_count": 8,
     "metadata": {},
     "output_type": "execute_result"
    }
   ],
   "source": [
    "a[10:1:-1]"
   ]
  },
  {
   "cell_type": "code",
   "execution_count": 9,
   "id": "881057db-4786-4c9a-935c-98f3eb4d4f6e",
   "metadata": {},
   "outputs": [
    {
     "data": {
      "text/plain": [
       "'yskai'"
      ]
     },
     "execution_count": 9,
     "metadata": {},
     "output_type": "execute_result"
    }
   ],
   "source": [
    "a[10:1:-2]"
   ]
  },
  {
   "cell_type": "code",
   "execution_count": 12,
   "id": "118403cd-f6b5-4ef8-989c-a99a69d2d9d6",
   "metadata": {},
   "outputs": [
    {
     "data": {
      "text/plain": [
       "22"
      ]
     },
     "execution_count": 12,
     "metadata": {},
     "output_type": "execute_result"
    }
   ],
   "source": [
    "a.find(\"tech\")"
   ]
  },
  {
   "cell_type": "code",
   "execution_count": 13,
   "id": "fb0ffc40-14c2-4126-a184-8a5e90ad3bea",
   "metadata": {},
   "outputs": [],
   "source": [
    "b=\"abcxdef\""
   ]
  },
  {
   "cell_type": "code",
   "execution_count": 14,
   "id": "b84746ab-b5bd-472f-8bd1-f45907918d35",
   "metadata": {},
   "outputs": [
    {
     "data": {
      "text/plain": [
       "'abcydef'"
      ]
     },
     "execution_count": 14,
     "metadata": {},
     "output_type": "execute_result"
    }
   ],
   "source": [
    "b[:3]+\"y\"+b[4:]"
   ]
  },
  {
   "cell_type": "code",
   "execution_count": 15,
   "id": "f88062b2-eb86-4f94-b3eb-a0f57e57b6bc",
   "metadata": {},
   "outputs": [
    {
     "name": "stdin",
     "output_type": "stream",
     "text": [
      " abcxdef\n"
     ]
    },
    {
     "data": {
      "text/plain": [
       "'abcydef'"
      ]
     },
     "execution_count": 15,
     "metadata": {},
     "output_type": "execute_result"
    }
   ],
   "source": [
    "#   this will replace only 1st occurance of 'x' with 'y'\n",
    "x=input()\n",
    "i= x.find(\"x\")\n",
    "ans=x\n",
    "if i!=-1:\n",
    "    ans= ans[:i]+\"y\"+ans[i+1:]\n",
    "ans"
   ]
  },
  {
   "cell_type": "code",
   "execution_count": 17,
   "id": "44cc8b0b-ecd7-45d7-9b6a-4d2535b3245a",
   "metadata": {},
   "outputs": [
    {
     "name": "stdin",
     "output_type": "stream",
     "text": [
      " shivamxkashyapxkingoxgaddixmeixkuchx thae kya\n"
     ]
    },
    {
     "data": {
      "text/plain": [
       "'shivamykashyapykingoygaddiymeiykuchy thae kya'"
      ]
     },
     "execution_count": 17,
     "metadata": {},
     "output_type": "execute_result"
    }
   ],
   "source": [
    "# replace any number of occurance of x with y\n",
    "x=input()\n",
    "ans=x\n",
    "for i in range(0,len(x)):\n",
    "    if ans[i]=='x':\n",
    "        ans= ans[:i]+'y'+ans[i+1:]\n",
    "ans"
   ]
  },
  {
   "cell_type": "code",
   "execution_count": null,
   "id": "e06e2e67-01de-4e39-bb79-3824fb21a6f8",
   "metadata": {},
   "outputs": [],
   "source": []
  }
 ],
 "metadata": {
  "kernelspec": {
   "display_name": "Python 3 (ipykernel)",
   "language": "python",
   "name": "python3"
  },
  "language_info": {
   "codemirror_mode": {
    "name": "ipython",
    "version": 3
   },
   "file_extension": ".py",
   "mimetype": "text/x-python",
   "name": "python",
   "nbconvert_exporter": "python",
   "pygments_lexer": "ipython3",
   "version": "3.11.7"
  }
 },
 "nbformat": 4,
 "nbformat_minor": 5
}
