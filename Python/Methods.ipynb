{
 "cells": [
  {
   "cell_type": "markdown",
   "id": "7ca076ef-fc8e-46d7-ba23-aaeb1a16cfe1",
   "metadata": {},
   "source": [
    "## Instance Method"
   ]
  },
  {
   "cell_type": "code",
   "execution_count": 37,
   "id": "cbb5611c-06ad-407e-86b9-49cb17d4a788",
   "metadata": {},
   "outputs": [],
   "source": [
    "class student:\n",
    "    #class attributes\n",
    "    totalstudent=20\n",
    "    teacherName='komal'\n",
    "\n",
    "    #instance methods\n",
    "    def printHello(self):\n",
    "        print(\"HelloWorld\")\n",
    "\n",
    "    def printstring(self, str):\n",
    "        print(str)\n",
    "\n",
    "    def printname(self):\n",
    "        print(self.name)\n",
    "\n",
    "\n",
    "\n",
    "    def addname(self,name):\n",
    "        self.newname=name\n",
    "\n",
    "    def testingClassAttribute(self):\n",
    "        ##print(totalstudent)##It will give you error brother\n",
    "        print(student.totalstudent)\n",
    "        \n",
    "        \n",
    "\n",
    "#Object Declaration\n",
    "s1=student()\n",
    "s2=student()"
   ]
  },
  {
   "cell_type": "code",
   "execution_count": 27,
   "id": "1006eaae-ef50-44ab-be66-1575e1040096",
   "metadata": {},
   "outputs": [
    {
     "name": "stdout",
     "output_type": "stream",
     "text": [
      "HelloWorld\n",
      "Shivam Kashyap\n",
      "HelloWorld\n"
     ]
    }
   ],
   "source": [
    "s1.printHello()\n",
    "s1.printstring(\"Shivam Kashyap\")\n",
    "\n",
    "student.printHello(s1)"
   ]
  },
  {
   "cell_type": "code",
   "execution_count": 29,
   "id": "5489f7f8-ed81-4b28-95df-be3ffce4f682",
   "metadata": {},
   "outputs": [
    {
     "name": "stdout",
     "output_type": "stream",
     "text": [
      "Kingo\n"
     ]
    }
   ],
   "source": [
    "s1.name='Kingo'\n",
    "s1.printname()"
   ]
  },
  {
   "cell_type": "code",
   "execution_count": 31,
   "id": "5a359e9d-5eb2-4675-8a0e-6da013416d08",
   "metadata": {},
   "outputs": [],
   "source": [
    "s1.addname(\"kitti\")"
   ]
  },
  {
   "cell_type": "code",
   "execution_count": 32,
   "id": "9f2ad83e-aa12-4e0a-a2d5-2b340cf96b02",
   "metadata": {},
   "outputs": [
    {
     "name": "stdout",
     "output_type": "stream",
     "text": [
      "{'newname': 'kitti'}\n"
     ]
    }
   ],
   "source": [
    "print(s1.__dict__)"
   ]
  },
  {
   "cell_type": "code",
   "execution_count": 38,
   "id": "9fd1f393-8fb5-491b-8701-1ffe196d35eb",
   "metadata": {},
   "outputs": [
    {
     "name": "stdout",
     "output_type": "stream",
     "text": [
      "20\n"
     ]
    }
   ],
   "source": [
    "s1.testingClassAttribute()"
   ]
  },
  {
   "cell_type": "markdown",
   "id": "926faeef-4ffa-443b-bd94-521460b62b38",
   "metadata": {},
   "source": [
    "## More on Instance methods"
   ]
  },
  {
   "cell_type": "code",
   "execution_count": 5,
   "id": "2999de10-5956-40e8-8cae-c2d6de412aee",
   "metadata": {},
   "outputs": [
    {
     "name": "stdout",
     "output_type": "stream",
     "text": [
      "19\n"
     ]
    }
   ],
   "source": [
    "class student:\n",
    "    def printA(self,x):\n",
    "        print(self.a)\n",
    "\n",
    "obj1=student()\n",
    "obj1.a=19\n",
    "obj1.printA(obj1.a)"
   ]
  },
  {
   "cell_type": "code",
   "execution_count": 7,
   "id": "0cf968a5-2c6b-433c-8ce8-128556ea37fc",
   "metadata": {},
   "outputs": [
    {
     "ename": "NameError",
     "evalue": "name 'a' is not defined",
     "output_type": "error",
     "traceback": [
      "\u001b[1;31m---------------------------------------------------------------------------\u001b[0m",
      "\u001b[1;31mNameError\u001b[0m                                 Traceback (most recent call last)",
      "Cell \u001b[1;32mIn[7], line 8\u001b[0m\n\u001b[0;32m      5\u001b[0m         \u001b[38;5;28mprint\u001b[39m(a,b)\n\u001b[0;32m      7\u001b[0m obj1\u001b[38;5;241m=\u001b[39mtesting()\n\u001b[1;32m----> 8\u001b[0m obj1\u001b[38;5;241m.\u001b[39mprintAB()\n",
      "Cell \u001b[1;32mIn[7], line 5\u001b[0m, in \u001b[0;36mtesting.printAB\u001b[1;34m(self)\u001b[0m\n\u001b[0;32m      4\u001b[0m \u001b[38;5;28;01mdef\u001b[39;00m \u001b[38;5;21mprintAB\u001b[39m(\u001b[38;5;28mself\u001b[39m):\n\u001b[1;32m----> 5\u001b[0m     \u001b[38;5;28mprint\u001b[39m(a,b)\n",
      "\u001b[1;31mNameError\u001b[0m: name 'a' is not defined"
     ]
    }
   ],
   "source": [
    "class testing:\n",
    "    a=11\n",
    "    b=22\n",
    "    def printAB(self):\n",
    "        print(a,b)\n",
    "\n",
    "obj1=testing()\n",
    "obj1.printAB()"
   ]
  },
  {
   "cell_type": "code",
   "execution_count": 8,
   "id": "64f23ae5-6180-48d9-a9a8-1db97007dc78",
   "metadata": {},
   "outputs": [
    {
     "name": "stdout",
     "output_type": "stream",
     "text": [
      "11 22\n"
     ]
    }
   ],
   "source": [
    "class testing:\n",
    "    a=11\n",
    "    b=22\n",
    "    def printAB(self):\n",
    "        print(testing.a,testing.b)\n",
    "\n",
    "obj1=testing()\n",
    "obj1.printAB()"
   ]
  },
  {
   "cell_type": "code",
   "execution_count": 9,
   "id": "db827db3-a025-41d6-afe3-450980da11f0",
   "metadata": {},
   "outputs": [
    {
     "name": "stdout",
     "output_type": "stream",
     "text": [
      "11 22\n"
     ]
    }
   ],
   "source": [
    "class testing:\n",
    "    a=11\n",
    "    b=22\n",
    "    def printAB(self):\n",
    "        print(self.a,self.b)\n",
    "\n",
    "obj1=testing()\n",
    "obj1.printAB()"
   ]
  },
  {
   "cell_type": "code",
   "execution_count": 10,
   "id": "9bafe15c-88d0-487d-9429-773ee7141a27",
   "metadata": {},
   "outputs": [
    {
     "name": "stdout",
     "output_type": "stream",
     "text": [
      "55 90\n"
     ]
    }
   ],
   "source": [
    "class testing:\n",
    "    a=11\n",
    "    b=22\n",
    "    def printAB(self):\n",
    "        a=55\n",
    "        b=90\n",
    "        print(a,b)\n",
    "\n",
    "obj1=testing()\n",
    "obj1.printAB()"
   ]
  },
  {
   "cell_type": "code",
   "execution_count": 11,
   "id": "4c54f311-29cb-4e0d-a394-6bed1ffcb842",
   "metadata": {},
   "outputs": [
    {
     "name": "stdout",
     "output_type": "stream",
     "text": [
      "11 22\n"
     ]
    }
   ],
   "source": [
    "class testing:\n",
    "    a=11\n",
    "    b=22\n",
    "    def printAB(self):\n",
    "        a=55\n",
    "        b=90\n",
    "        print(self.a,self.b)\n",
    "\n",
    "obj1=testing()\n",
    "obj1.printAB()"
   ]
  },
  {
   "cell_type": "code",
   "execution_count": 12,
   "id": "d76a5ebb-f397-4174-935c-a3efdaa1fa26",
   "metadata": {},
   "outputs": [
    {
     "ename": "NameError",
     "evalue": "name 'a' is not defined",
     "output_type": "error",
     "traceback": [
      "\u001b[1;31m---------------------------------------------------------------------------\u001b[0m",
      "\u001b[1;31mNameError\u001b[0m                                 Traceback (most recent call last)",
      "Cell \u001b[1;32mIn[12], line 10\u001b[0m\n\u001b[0;32m      7\u001b[0m         \u001b[38;5;28mprint\u001b[39m(a,b)\n\u001b[0;32m      9\u001b[0m obj1\u001b[38;5;241m=\u001b[39mtesting()\n\u001b[1;32m---> 10\u001b[0m obj1\u001b[38;5;241m.\u001b[39mprintAB()\n",
      "Cell \u001b[1;32mIn[12], line 7\u001b[0m, in \u001b[0;36mtesting.printAB\u001b[1;34m(self)\u001b[0m\n\u001b[0;32m      5\u001b[0m \u001b[38;5;28mself\u001b[39m\u001b[38;5;241m.\u001b[39ma\u001b[38;5;241m=\u001b[39m\u001b[38;5;241m55\u001b[39m\n\u001b[0;32m      6\u001b[0m \u001b[38;5;28mself\u001b[39m\u001b[38;5;241m.\u001b[39mb\u001b[38;5;241m=\u001b[39m\u001b[38;5;241m90\u001b[39m\n\u001b[1;32m----> 7\u001b[0m \u001b[38;5;28mprint\u001b[39m(a,b)\n",
      "\u001b[1;31mNameError\u001b[0m: name 'a' is not defined"
     ]
    }
   ],
   "source": [
    "class testing:\n",
    "    a=11\n",
    "    b=22\n",
    "    def printAB(self):\n",
    "        a=55\n",
    "        b=90\n",
    "        print(a,b)\n",
    "\n",
    "obj1=testing()\n",
    "obj1.printAB()"
   ]
  },
  {
   "cell_type": "code",
   "execution_count": null,
   "id": "083d2f41-24a6-4151-bd16-514190f040ec",
   "metadata": {},
   "outputs": [],
   "source": []
  }
 ],
 "metadata": {
  "kernelspec": {
   "display_name": "Python 3 (ipykernel)",
   "language": "python",
   "name": "python3"
  },
  "language_info": {
   "codemirror_mode": {
    "name": "ipython",
    "version": 3
   },
   "file_extension": ".py",
   "mimetype": "text/x-python",
   "name": "python",
   "nbconvert_exporter": "python",
   "pygments_lexer": "ipython3",
   "version": "3.11.7"
  }
 },
 "nbformat": 4,
 "nbformat_minor": 5
}
