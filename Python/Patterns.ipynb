{
 "cells": [
  {
   "cell_type": "markdown",
   "id": "5f63712b-9fa2-4f21-a967-045499a433ad",
   "metadata": {},
   "source": [
    "## Pattern1"
   ]
  },
  {
   "cell_type": "code",
   "execution_count": 13,
   "id": "f049b36f-f66a-482f-9cd8-83c378fc756c",
   "metadata": {},
   "outputs": [
    {
     "name": "stdin",
     "output_type": "stream",
     "text": [
      " 5\n"
     ]
    },
    {
     "name": "stdout",
     "output_type": "stream",
     "text": [
      "* * * * * \n",
      "* * * * * \n",
      "* * * * * \n",
      "* * * * * \n",
      "* * * * * \n"
     ]
    }
   ],
   "source": [
    "n= int(input())\n",
    "i=0\n",
    "\n",
    "while i<n:\n",
    "    j=0\n",
    "    while j!=n:\n",
    "        print(\"*\",end=\" \")\n",
    "        j=j+1\n",
    "    print()\n",
    "    i=i+1\n",
    "    "
   ]
  },
  {
   "cell_type": "markdown",
   "id": "0f15376b-8615-461b-897f-c64edd121bfa",
   "metadata": {},
   "source": [
    "## Pattern2"
   ]
  },
  {
   "cell_type": "code",
   "execution_count": 16,
   "id": "36e17d7f-6baa-47b8-b1f6-92683d9e164b",
   "metadata": {},
   "outputs": [
    {
     "name": "stdin",
     "output_type": "stream",
     "text": [
      " 5\n"
     ]
    },
    {
     "name": "stdout",
     "output_type": "stream",
     "text": [
      "11111\n",
      "22222\n",
      "33333\n",
      "44444\n",
      "55555\n"
     ]
    }
   ],
   "source": [
    "n=int(input())\n",
    "i=1\n",
    "j=1\n",
    "while i<=n:\n",
    "    j=1\n",
    "    while j<=n:\n",
    "        print(i,end='')\n",
    "        j=j+1\n",
    "    print()\n",
    "    i=i+1"
   ]
  },
  {
   "cell_type": "markdown",
   "id": "4cc24806-4cc6-4f37-9158-76eef29a2f06",
   "metadata": {},
   "source": [
    "## Pattern3"
   ]
  },
  {
   "cell_type": "code",
   "execution_count": 2,
   "id": "98d721c9-013b-402c-8d00-d28c05ace7e3",
   "metadata": {},
   "outputs": [
    {
     "name": "stdout",
     "output_type": "stream",
     "text": [
      "1234\n",
      "1234\n",
      "1234\n",
      "1234\n"
     ]
    }
   ],
   "source": [
    "i=1\n",
    "while i<=4:\n",
    "    j=1\n",
    "    while j<=4:\n",
    "        print(j, end='')\n",
    "        j=j+1\n",
    "    print()\n",
    "    i=i+1\n",
    "        \n"
   ]
  },
  {
   "cell_type": "code",
   "execution_count": 6,
   "id": "9f5eeb88-500f-4f34-aedc-decfd56cb40f",
   "metadata": {},
   "outputs": [
    {
     "name": "stdout",
     "output_type": "stream",
     "text": [
      "4321\n",
      "4321\n",
      "4321\n",
      "4321\n"
     ]
    }
   ],
   "source": [
    "i=1\n",
    "while i<=4:\n",
    "    j=4\n",
    "    while j>=1:\n",
    "        print(j, end='')\n",
    "        j=j-1\n",
    "    print()\n",
    "    i=i+1\n",
    "        "
   ]
  },
  {
   "cell_type": "code",
   "execution_count": 9,
   "id": "a8a9a7f0-8b1d-4bb7-bbed-a73aa96d6a84",
   "metadata": {},
   "outputs": [
    {
     "name": "stdin",
     "output_type": "stream",
     "text": [
      " 10\n"
     ]
    },
    {
     "name": "stdout",
     "output_type": "stream",
     "text": [
      "1\n",
      "12\n",
      "123\n",
      "1234\n",
      "12345\n",
      "123456\n",
      "1234567\n",
      "12345678\n",
      "123456789\n",
      "12345678910\n"
     ]
    }
   ],
   "source": [
    "n= int(input())\n",
    "i=1\n",
    "while i<=n:\n",
    "    j=1\n",
    "    while j<=i:\n",
    "        print(j,end='')\n",
    "        j=j+1\n",
    "    print()\n",
    "    i=i+1"
   ]
  },
  {
   "cell_type": "code",
   "execution_count": 13,
   "id": "62356518-5b3e-405c-b90e-8be3010a3010",
   "metadata": {},
   "outputs": [
    {
     "name": "stdout",
     "output_type": "stream",
     "text": [
      "1\n",
      "2\n",
      "3\n",
      "4\n"
     ]
    }
   ],
   "source": [
    "i=1\n",
    "k=1\n",
    "while i<=4:\n",
    "    j=1\n",
    "    while j<=i:\n",
    "        while k<=j:\n",
    "            print(k,end='')\n",
    "            k=k+1\n",
    "        j=j+1\n",
    "    print()\n",
    "    i=i+1\n",
    "        "
   ]
  },
  {
   "cell_type": "code",
   "execution_count": null,
   "id": "dac8d215-fe06-426e-93d7-c55a94d81940",
   "metadata": {},
   "outputs": [],
   "source": []
  },
  {
   "cell_type": "code",
   "execution_count": null,
   "id": "07ddc71f-be8a-487c-8194-0cd521ecd34e",
   "metadata": {},
   "outputs": [],
   "source": []
  }
 ],
 "metadata": {
  "kernelspec": {
   "display_name": "Python 3 (ipykernel)",
   "language": "python",
   "name": "python3"
  },
  "language_info": {
   "codemirror_mode": {
    "name": "ipython",
    "version": 3
   },
   "file_extension": ".py",
   "mimetype": "text/x-python",
   "name": "python",
   "nbconvert_exporter": "python",
   "pygments_lexer": "ipython3",
   "version": "3.11.7"
  }
 },
 "nbformat": 4,
 "nbformat_minor": 5
}
