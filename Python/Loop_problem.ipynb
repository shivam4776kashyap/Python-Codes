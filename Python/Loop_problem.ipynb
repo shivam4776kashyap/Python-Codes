{
 "cells": [
  {
   "cell_type": "markdown",
   "id": "ce54452f-e016-49d4-8fdf-c7aa0fce2ede",
   "metadata": {},
   "source": [
    "## Factorial code"
   ]
  },
  {
   "cell_type": "code",
   "execution_count": 11,
   "id": "1c9b5401-988d-4e08-8a71-f3f41cb6d396",
   "metadata": {},
   "outputs": [
    {
     "name": "stdin",
     "output_type": "stream",
     "text": [
      " 5\n"
     ]
    },
    {
     "name": "stdout",
     "output_type": "stream",
     "text": [
      "120\n"
     ]
    }
   ],
   "source": [
    "n=int(input())\n",
    "k=n\n",
    "while n!=0:\n",
    "    n=n-1\n",
    "    if n!=0:\n",
    "        k=k*n\n",
    "        \n",
    "    \n",
    "print(k)"
   ]
  },
  {
   "cell_type": "markdown",
   "id": "7c4bb4db-75cb-40cc-8bb7-7ad4019e94c3",
   "metadata": {},
   "source": [
    "## Sum upto n like 1 to n what is the sum"
   ]
  },
  {
   "cell_type": "code",
   "execution_count": 12,
   "id": "643e9112-a759-4ca7-8d56-2f9fd8f6a68a",
   "metadata": {},
   "outputs": [
    {
     "name": "stdin",
     "output_type": "stream",
     "text": [
      " 6\n"
     ]
    },
    {
     "name": "stdout",
     "output_type": "stream",
     "text": [
      "0\n"
     ]
    }
   ],
   "source": [
    "n=int(input())\n",
    "k=n\n",
    "while n!=0:\n",
    "    n=n-1\n",
    "    k=k*n\n",
    "print(k)"
   ]
  }
 ],
 "metadata": {
  "kernelspec": {
   "display_name": "Python 3 (ipykernel)",
   "language": "python",
   "name": "python3"
  },
  "language_info": {
   "codemirror_mode": {
    "name": "ipython",
    "version": 3
   },
   "file_extension": ".py",
   "mimetype": "text/x-python",
   "name": "python",
   "nbconvert_exporter": "python",
   "pygments_lexer": "ipython3",
   "version": "3.11.7"
  }
 },
 "nbformat": 4,
 "nbformat_minor": 5
}
