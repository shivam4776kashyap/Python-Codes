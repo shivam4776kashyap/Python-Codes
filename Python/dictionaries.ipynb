{
 "cells": [
  {
   "cell_type": "markdown",
   "id": "b9be4ec2-83d5-4105-bce5-a1bead4bd1f6",
   "metadata": {},
   "source": [
    "# Dictionary"
   ]
  },
  {
   "cell_type": "code",
   "execution_count": 1,
   "id": "cb660e30-d8e0-49bb-8330-88cc201a5941",
   "metadata": {},
   "outputs": [
    {
     "data": {
      "text/plain": [
       "dict"
      ]
     },
     "execution_count": 1,
     "metadata": {},
     "output_type": "execute_result"
    }
   ],
   "source": [
    "a={}\n",
    "type(a)"
   ]
  },
  {
   "cell_type": "code",
   "execution_count": 2,
   "id": "f9180cd0-9b18-4832-a87e-410c10db98d9",
   "metadata": {},
   "outputs": [
    {
     "data": {
      "text/plain": [
       "{25: 'shivam', 'sreejani': 26, 'abc': 121}"
      ]
     },
     "execution_count": 2,
     "metadata": {},
     "output_type": "execute_result"
    }
   ],
   "source": [
    "a={25:'shivam','sreejani':26,'abc':121}\n",
    "a"
   ]
  },
  {
   "cell_type": "code",
   "execution_count": 3,
   "id": "958f871e-1775-4e97-bcab-ef6acdbb3c65",
   "metadata": {},
   "outputs": [
    {
     "data": {
      "text/plain": [
       "3"
      ]
     },
     "execution_count": 3,
     "metadata": {},
     "output_type": "execute_result"
    }
   ],
   "source": [
    "len(a)"
   ]
  },
  {
   "cell_type": "code",
   "execution_count": 6,
   "id": "710d8479-1177-4884-9e9d-e878d49aed7b",
   "metadata": {},
   "outputs": [
    {
     "name": "stdout",
     "output_type": "stream",
     "text": [
      "{25: 'shivam', 'sreejani': 26, 'abc': 121}\n"
     ]
    },
    {
     "data": {
      "text/plain": [
       "dict"
      ]
     },
     "execution_count": 6,
     "metadata": {},
     "output_type": "execute_result"
    }
   ],
   "source": [
    "b=a  # or we write this way b= a.copy()\n",
    "print(b)\n",
    "type(b)"
   ]
  },
  {
   "cell_type": "code",
   "execution_count": 8,
   "id": "bf8ab126-711e-454f-b54d-a86c9dc3be64",
   "metadata": {},
   "outputs": [
    {
     "name": "stdout",
     "output_type": "stream",
     "text": [
      "{'shivam': 13, 12: 'cmei debarma', 123: 44}\n"
     ]
    }
   ],
   "source": [
    "# Different way to create dictionaries\n",
    "\n",
    "# Way1\n",
    "a=dict([(\"shivam\",13),(12,\"cmei debarma\"),(123,44)])\n",
    "print(a)\n"
   ]
  },
  {
   "cell_type": "code",
   "execution_count": 9,
   "id": "af51d709-508f-436d-a299-7cbc05c6b599",
   "metadata": {},
   "outputs": [
    {
     "name": "stdout",
     "output_type": "stream",
     "text": [
      "{'abc': None, 121: None, 'def': None}\n"
     ]
    }
   ],
   "source": [
    "# Way2\n",
    "b= dict.fromkeys(['abc',121,'def'])\n",
    "print(b)"
   ]
  },
  {
   "cell_type": "code",
   "execution_count": 10,
   "id": "3bd0501b-93c2-4cf4-9064-3b14fc08befc",
   "metadata": {},
   "outputs": [
    {
     "name": "stdout",
     "output_type": "stream",
     "text": [
      "{'abc': 'pta nhi', 121: 'pta nhi', 'def': 'pta nhi'}\n"
     ]
    }
   ],
   "source": [
    "# Way2\n",
    "b= dict.fromkeys(['abc',121,'def'],'pta nhi')\n",
    "print(b)"
   ]
  },
  {
   "cell_type": "code",
   "execution_count": null,
   "id": "46ac2c8b-4137-474c-a66b-0722c8ecdaa0",
   "metadata": {},
   "outputs": [],
   "source": []
  },
  {
   "cell_type": "markdown",
   "id": "d07b6343-f231-45f3-bdaa-0f70734f3e33",
   "metadata": {},
   "source": [
    "# Dictionaries functions"
   ]
  },
  {
   "cell_type": "code",
   "execution_count": 1,
   "id": "7cce567c-bafa-4d97-b1e4-e3f7796735bc",
   "metadata": {},
   "outputs": [],
   "source": [
    "a={'shivam':25,1:2,5:8,'list':[2,3,1],'dict':{1:11,2:22}}"
   ]
  },
  {
   "cell_type": "code",
   "execution_count": 2,
   "id": "da8af44f-1c8d-45d7-a382-df9cadcd17bb",
   "metadata": {},
   "outputs": [
    {
     "data": {
      "text/plain": [
       "{'shivam': 25, 1: 2, 5: 8, 'list': [2, 3, 1], 'dict': {1: 11, 2: 22}}"
      ]
     },
     "execution_count": 2,
     "metadata": {},
     "output_type": "execute_result"
    }
   ],
   "source": [
    "a"
   ]
  },
  {
   "cell_type": "code",
   "execution_count": 3,
   "id": "7bf81ccd-eccb-45ea-850c-308ae65b6ce3",
   "metadata": {},
   "outputs": [
    {
     "data": {
      "text/plain": [
       "25"
      ]
     },
     "execution_count": 3,
     "metadata": {},
     "output_type": "execute_result"
    }
   ],
   "source": [
    "a['shivam']"
   ]
  },
  {
   "cell_type": "code",
   "execution_count": 4,
   "id": "7e5d2099-ccfb-4ed2-9eb4-2c51cb156977",
   "metadata": {},
   "outputs": [
    {
     "data": {
      "text/plain": [
       "{1: 11, 2: 22}"
      ]
     },
     "execution_count": 4,
     "metadata": {},
     "output_type": "execute_result"
    }
   ],
   "source": [
    "a['dict']"
   ]
  },
  {
   "cell_type": "code",
   "execution_count": 5,
   "id": "33907c37-ba60-4617-b78a-f583907544a8",
   "metadata": {},
   "outputs": [
    {
     "data": {
      "text/plain": [
       "8"
      ]
     },
     "execution_count": 5,
     "metadata": {},
     "output_type": "execute_result"
    }
   ],
   "source": [
    "a[5]"
   ]
  },
  {
   "cell_type": "code",
   "execution_count": 11,
   "id": "7fef70a6-c1a6-434d-96af-159784ddef4b",
   "metadata": {},
   "outputs": [
    {
     "ename": "KeyError",
     "evalue": "'shiv'",
     "output_type": "error",
     "traceback": [
      "\u001b[1;31m---------------------------------------------------------------------------\u001b[0m",
      "\u001b[1;31mKeyError\u001b[0m                                  Traceback (most recent call last)",
      "Cell \u001b[1;32mIn[11], line 1\u001b[0m\n\u001b[1;32m----> 1\u001b[0m a[\u001b[38;5;124m'\u001b[39m\u001b[38;5;124mshiv\u001b[39m\u001b[38;5;124m'\u001b[39m]\n",
      "\u001b[1;31mKeyError\u001b[0m: 'shiv'"
     ]
    }
   ],
   "source": [
    "a['shiv']  # This will give error but using get fxn will not give error, it give none if the key is not present."
   ]
  },
  {
   "cell_type": "code",
   "execution_count": 12,
   "id": "7a4bf2fc-67d8-4332-9b49-8dffe0afb83f",
   "metadata": {},
   "outputs": [
    {
     "data": {
      "text/plain": [
       "25"
      ]
     },
     "execution_count": 12,
     "metadata": {},
     "output_type": "execute_result"
    }
   ],
   "source": [
    "a.get('shivam')  # equal to    a['shivam']"
   ]
  },
  {
   "cell_type": "code",
   "execution_count": 13,
   "id": "99a3b318-0483-4eb8-bafb-2e05ecf2e9e5",
   "metadata": {},
   "outputs": [
    {
     "name": "stdout",
     "output_type": "stream",
     "text": [
      "None\n"
     ]
    }
   ],
   "source": [
    "print(a.get('shiva')) # see it didnot give the error it simply return the None, it the key is not present"
   ]
  },
  {
   "cell_type": "code",
   "execution_count": 15,
   "id": "60d1e245-cbc9-4818-8133-44316ed3ee9b",
   "metadata": {},
   "outputs": [
    {
     "data": {
      "text/plain": [
       "0"
      ]
     },
     "execution_count": 15,
     "metadata": {},
     "output_type": "execute_result"
    }
   ],
   "source": [
    "a.get('shiva',0)  # we can set the default value to any key which is not present in the dictionaries"
   ]
  },
  {
   "cell_type": "code",
   "execution_count": 16,
   "id": "644f7983-fe7f-42e7-86fc-2e9bd8603cdb",
   "metadata": {},
   "outputs": [
    {
     "data": {
      "text/plain": [
       "dict_keys(['shivam', 1, 5, 'list', 'dict'])"
      ]
     },
     "execution_count": 16,
     "metadata": {},
     "output_type": "execute_result"
    }
   ],
   "source": [
    "a.keys()"
   ]
  },
  {
   "cell_type": "code",
   "execution_count": 24,
   "id": "f3d4ae97-c801-45ab-9309-53009a782ccd",
   "metadata": {},
   "outputs": [
    {
     "name": "stdout",
     "output_type": "stream",
     "text": [
      "shivam\n",
      "1\n",
      "5\n",
      "list\n",
      "dict\n"
     ]
    }
   ],
   "source": [
    "for i in a.keys():\n",
    "    print(i)"
   ]
  },
  {
   "cell_type": "code",
   "execution_count": 17,
   "id": "0ee0e95a-2ab1-4a54-8e49-139873b5f0cd",
   "metadata": {},
   "outputs": [
    {
     "data": {
      "text/plain": [
       "dict_values([25, 2, 8, [2, 3, 1], {1: 11, 2: 22}])"
      ]
     },
     "execution_count": 17,
     "metadata": {},
     "output_type": "execute_result"
    }
   ],
   "source": [
    "a.values()"
   ]
  },
  {
   "cell_type": "code",
   "execution_count": 25,
   "id": "423c7502-1224-4532-9189-9a606e447bb5",
   "metadata": {},
   "outputs": [
    {
     "name": "stdout",
     "output_type": "stream",
     "text": [
      "25\n",
      "2\n",
      "8\n",
      "[2, 3, 1]\n",
      "{1: 11, 2: 22}\n"
     ]
    }
   ],
   "source": [
    "for i in a.values():\n",
    "    print(i)"
   ]
  },
  {
   "cell_type": "code",
   "execution_count": 18,
   "id": "39d5b20b-88bb-4b48-9706-3ca97fa8b861",
   "metadata": {},
   "outputs": [
    {
     "data": {
      "text/plain": [
       "dict_items([('shivam', 25), (1, 2), (5, 8), ('list', [2, 3, 1]), ('dict', {1: 11, 2: 22})])"
      ]
     },
     "execution_count": 18,
     "metadata": {},
     "output_type": "execute_result"
    }
   ],
   "source": [
    "a.items()"
   ]
  },
  {
   "cell_type": "code",
   "execution_count": 23,
   "id": "2dcd519e-21e6-4404-b57b-5d2f9a7fb509",
   "metadata": {},
   "outputs": [
    {
     "name": "stdout",
     "output_type": "stream",
     "text": [
      "('shivam', 25)\n",
      "(1, 2)\n",
      "(5, 8)\n",
      "('list', [2, 3, 1])\n",
      "('dict', {1: 11, 2: 22})\n"
     ]
    }
   ],
   "source": [
    "for i in a.items():\n",
    "    print(i)"
   ]
  },
  {
   "cell_type": "code",
   "execution_count": 19,
   "id": "f0cdf5de-f85e-4335-b09a-d2bbd7e9292a",
   "metadata": {},
   "outputs": [
    {
     "name": "stdout",
     "output_type": "stream",
     "text": [
      "shivam 25\n",
      "1 2\n",
      "5 8\n",
      "list [2, 3, 1]\n",
      "dict {1: 11, 2: 22}\n"
     ]
    }
   ],
   "source": [
    "for i in a:\n",
    "    print(i,a[i])"
   ]
  },
  {
   "cell_type": "code",
   "execution_count": null,
   "id": "e4e33bcd-1e28-42d7-8809-2a499f8155f7",
   "metadata": {},
   "outputs": [],
   "source": []
  },
  {
   "cell_type": "markdown",
   "id": "a5300218-0c5f-4e6a-937d-3fe467942be0",
   "metadata": {},
   "source": [
    "# Adding and Removing data into Dictionary"
   ]
  },
  {
   "cell_type": "code",
   "execution_count": 26,
   "id": "e6dba8fd-59ce-4851-b478-bf28564795b4",
   "metadata": {},
   "outputs": [
    {
     "data": {
      "text/plain": [
       "{'shivam': 25, 1: 2, 5: 8, 'list': [2, 3, 1], 'dict': {1: 11, 2: 22}}"
      ]
     },
     "execution_count": 26,
     "metadata": {},
     "output_type": "execute_result"
    }
   ],
   "source": [
    "a"
   ]
  },
  {
   "cell_type": "code",
   "execution_count": 31,
   "id": "98ce4ff0-55ef-404d-956c-cc431fd1a5fd",
   "metadata": {},
   "outputs": [],
   "source": [
    "a['tup']=(1,2,3)"
   ]
  },
  {
   "cell_type": "code",
   "execution_count": 32,
   "id": "9bcf37f3-710e-4a89-98b9-a2764929f5d5",
   "metadata": {},
   "outputs": [
    {
     "data": {
      "text/plain": [
       "{'shivam': 25,\n",
       " 1: 2,\n",
       " 5: 8,\n",
       " 'list': [2, 3, 1],\n",
       " 'dict': {1: 11, 2: 22},\n",
       " 'tup': (1, 2, 3)}"
      ]
     },
     "execution_count": 32,
     "metadata": {},
     "output_type": "execute_result"
    }
   ],
   "source": [
    "a"
   ]
  },
  {
   "cell_type": "code",
   "execution_count": 34,
   "id": "da7e54af-f695-47be-b48a-22340c58f939",
   "metadata": {},
   "outputs": [
    {
     "data": {
      "text/plain": [
       "{'shivam': 13, 4: 44}"
      ]
     },
     "execution_count": 34,
     "metadata": {},
     "output_type": "execute_result"
    }
   ],
   "source": [
    "b={'shivam':13,4:44}\n",
    "b"
   ]
  },
  {
   "cell_type": "code",
   "execution_count": 37,
   "id": "4facbab2-5509-40af-b947-7c5dc20d1e91",
   "metadata": {},
   "outputs": [
    {
     "data": {
      "text/plain": [
       "{'shivam': 13,\n",
       " 1: 2,\n",
       " 5: 8,\n",
       " 'list': [2, 3, 1],\n",
       " 'dict': {1: 11, 2: 22},\n",
       " 'tup': (1, 2, 3),\n",
       " 4: 44}"
      ]
     },
     "execution_count": 37,
     "metadata": {},
     "output_type": "execute_result"
    }
   ],
   "source": [
    "a.update(b) # it update the value of 'shivam'to be 13 of b, also add 4 key value to a and remaining all the element of a is same\n",
    "a"
   ]
  },
  {
   "cell_type": "code",
   "execution_count": 38,
   "id": "a95affa5-d946-4e39-9cb8-56df09b144fa",
   "metadata": {},
   "outputs": [
    {
     "data": {
      "text/plain": [
       "(1, 2, 3)"
      ]
     },
     "execution_count": 38,
     "metadata": {},
     "output_type": "execute_result"
    }
   ],
   "source": [
    "a.pop('tup')"
   ]
  },
  {
   "cell_type": "code",
   "execution_count": 39,
   "id": "ef95adf7-7488-46f0-9fd4-1e2634370715",
   "metadata": {},
   "outputs": [
    {
     "data": {
      "text/plain": [
       "{'shivam': 13, 1: 2, 5: 8, 'list': [2, 3, 1], 'dict': {1: 11, 2: 22}, 4: 44}"
      ]
     },
     "execution_count": 39,
     "metadata": {},
     "output_type": "execute_result"
    }
   ],
   "source": [
    "a"
   ]
  },
  {
   "cell_type": "code",
   "execution_count": 40,
   "id": "8f4298a5-8a5d-45ef-97f4-91ac34526f12",
   "metadata": {},
   "outputs": [],
   "source": [
    "del a['shivam']"
   ]
  },
  {
   "cell_type": "code",
   "execution_count": 41,
   "id": "f9816f58-3a42-4478-a398-ec21516ff730",
   "metadata": {},
   "outputs": [
    {
     "data": {
      "text/plain": [
       "{1: 2, 5: 8, 'list': [2, 3, 1], 'dict': {1: 11, 2: 22}, 4: 44}"
      ]
     },
     "execution_count": 41,
     "metadata": {},
     "output_type": "execute_result"
    }
   ],
   "source": [
    "a"
   ]
  },
  {
   "cell_type": "code",
   "execution_count": 42,
   "id": "6841fe40-db53-46f8-bd94-29b9598c054a",
   "metadata": {},
   "outputs": [],
   "source": [
    "a.clear()"
   ]
  },
  {
   "cell_type": "code",
   "execution_count": 43,
   "id": "de2961be-f0f8-4015-b5bf-75ad2e546211",
   "metadata": {},
   "outputs": [
    {
     "data": {
      "text/plain": [
       "{}"
      ]
     },
     "execution_count": 43,
     "metadata": {},
     "output_type": "execute_result"
    }
   ],
   "source": [
    "a"
   ]
  },
  {
   "cell_type": "code",
   "execution_count": 44,
   "id": "f41fa3ec-6f72-4a3d-9d59-6a1c41ecbc29",
   "metadata": {},
   "outputs": [],
   "source": [
    "del a"
   ]
  },
  {
   "cell_type": "code",
   "execution_count": 45,
   "id": "3730f899-47f9-402c-a059-133ec3d4d4ea",
   "metadata": {},
   "outputs": [
    {
     "ename": "NameError",
     "evalue": "name 'a' is not defined",
     "output_type": "error",
     "traceback": [
      "\u001b[1;31m---------------------------------------------------------------------------\u001b[0m",
      "\u001b[1;31mNameError\u001b[0m                                 Traceback (most recent call last)",
      "Cell \u001b[1;32mIn[45], line 1\u001b[0m\n\u001b[1;32m----> 1\u001b[0m a\n",
      "\u001b[1;31mNameError\u001b[0m: name 'a' is not defined"
     ]
    }
   ],
   "source": [
    "a"
   ]
  },
  {
   "cell_type": "markdown",
   "id": "790f464b-9789-4a1b-bf46-d410e9861905",
   "metadata": {},
   "source": [
    "# Write a function which will print all the words which have frequency k"
   ]
  },
  {
   "cell_type": "code",
   "execution_count": 46,
   "id": "f2b3d55f-0b29-4ad1-8dfe-1e114916dd17",
   "metadata": {},
   "outputs": [
    {
     "name": "stdin",
     "output_type": "stream",
     "text": [
      " this is shivam kashyap he is good boy\n"
     ]
    },
    {
     "data": {
      "text/plain": [
       "{'this': 1, 'is': 2, 'shivam': 1, 'kashyap': 1, 'he': 1, 'good': 1, 'boy': 1}"
      ]
     },
     "execution_count": 46,
     "metadata": {},
     "output_type": "execute_result"
    }
   ],
   "source": [
    "string=input()\n",
    "words=string.split()\n",
    "dict={}\n",
    "for w in words:\n",
    "    if w in dict:\n",
    "        dict[w]=dict[w]+1\n",
    "    else:\n",
    "        dict[w]=1\n",
    "\n",
    "dict"
   ]
  },
  {
   "cell_type": "code",
   "execution_count": 49,
   "id": "791c59cd-9948-4ddf-bca1-41c23c684934",
   "metadata": {},
   "outputs": [
    {
     "name": "stdout",
     "output_type": "stream",
     "text": [
      "is\n",
      "very\n"
     ]
    }
   ],
   "source": [
    "def printFreqWords(s,freq):\n",
    "    words=s.split()\n",
    "    dict={}\n",
    "    for w in words:\n",
    "        if w in dict:\n",
    "            dict[w]=dict[w]+1\n",
    "        else:\n",
    "            dict[w]=1\n",
    "\n",
    "    for i in dict:\n",
    "        if dict[i]==freq:\n",
    "            print(i)\n",
    "\n",
    "printFreqWords('This is shivam kashyap is very very good boy',2)"
   ]
  },
  {
   "cell_type": "code",
   "execution_count": 50,
   "id": "6f10c49b-578b-4813-97a6-4e6bef160fde",
   "metadata": {},
   "outputs": [
    {
     "name": "stdout",
     "output_type": "stream",
     "text": [
      "is\n",
      "very\n"
     ]
    }
   ],
   "source": [
    "def printFreqWords(s,freq):\n",
    "    words=s.split()\n",
    "    dict={}\n",
    "    for w in words:\n",
    "        dict[w]=dict.get(w,0)+1  # here i replace the if else condition and use get function over there\n",
    "\n",
    "    for i in dict:\n",
    "        if dict[i]==freq:\n",
    "            print(i)\n",
    "\n",
    "printFreqWords('This is shivam kashyap is very very good boy',2)"
   ]
  },
  {
   "cell_type": "code",
   "execution_count": null,
   "id": "21b89f74-504f-4a48-829e-bc86e7f983cb",
   "metadata": {},
   "outputs": [],
   "source": []
  },
  {
   "cell_type": "code",
   "execution_count": null,
   "id": "b9a1d09c-1e48-4461-86df-c0df187a57fd",
   "metadata": {},
   "outputs": [],
   "source": []
  },
  {
   "cell_type": "code",
   "execution_count": null,
   "id": "c125bf5c-c8e5-4d40-84f9-7688179042eb",
   "metadata": {},
   "outputs": [],
   "source": []
  },
  {
   "cell_type": "code",
   "execution_count": null,
   "id": "0832f7a1-11a5-4eba-b1d4-0b5bf7b980b3",
   "metadata": {},
   "outputs": [],
   "source": []
  }
 ],
 "metadata": {
  "kernelspec": {
   "display_name": "Python 3 (ipykernel)",
   "language": "python",
   "name": "python3"
  },
  "language_info": {
   "codemirror_mode": {
    "name": "ipython",
    "version": 3
   },
   "file_extension": ".py",
   "mimetype": "text/x-python",
   "name": "python",
   "nbconvert_exporter": "python",
   "pygments_lexer": "ipython3",
   "version": "3.11.7"
  }
 },
 "nbformat": 4,
 "nbformat_minor": 5
}
