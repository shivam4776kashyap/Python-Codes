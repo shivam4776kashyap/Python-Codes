{
 "cells": [
  {
   "cell_type": "markdown",
   "id": "00c27a90-a527-4f98-8f6c-51a6bf863d1b",
   "metadata": {},
   "source": [
    "# List"
   ]
  },
  {
   "cell_type": "code",
   "execution_count": 18,
   "id": "e0046ccc-8a2b-496b-8e39-bf846e39bcb6",
   "metadata": {},
   "outputs": [],
   "source": [
    "a=[1,2,3,4]"
   ]
  },
  {
   "cell_type": "code",
   "execution_count": 19,
   "id": "6ac58aef-c8cc-4e0c-8f8f-92481e37adb9",
   "metadata": {},
   "outputs": [
    {
     "data": {
      "text/plain": [
       "list"
      ]
     },
     "execution_count": 19,
     "metadata": {},
     "output_type": "execute_result"
    }
   ],
   "source": [
    "type(a)"
   ]
  },
  {
   "cell_type": "code",
   "execution_count": 20,
   "id": "28d665ac-80b2-46f4-8f9a-e7c43468cb9b",
   "metadata": {},
   "outputs": [
    {
     "data": {
      "text/plain": [
       "4"
      ]
     },
     "execution_count": 20,
     "metadata": {},
     "output_type": "execute_result"
    }
   ],
   "source": [
    "a[3]"
   ]
  },
  {
   "cell_type": "code",
   "execution_count": 21,
   "id": "bbee3d4e-aa6f-4aad-ae40-2df5c40cb13d",
   "metadata": {},
   "outputs": [],
   "source": [
    "a[3]=40 #Mutable"
   ]
  },
  {
   "cell_type": "code",
   "execution_count": 5,
   "id": "2c576527-818b-402f-9de1-1a5f38fe293f",
   "metadata": {},
   "outputs": [
    {
     "data": {
      "text/plain": [
       "[1, 2, 3, 40]"
      ]
     },
     "execution_count": 5,
     "metadata": {},
     "output_type": "execute_result"
    }
   ],
   "source": [
    "a"
   ]
  },
  {
   "cell_type": "code",
   "execution_count": 6,
   "id": "a7c351df-4352-466a-8302-afe37ef5b70c",
   "metadata": {},
   "outputs": [],
   "source": [
    "a=[1,'shivam',2.3,True,[1,2,3]]"
   ]
  },
  {
   "cell_type": "code",
   "execution_count": 7,
   "id": "c3d94d1b-2a20-49f6-a53c-af052eedfdcf",
   "metadata": {},
   "outputs": [
    {
     "data": {
      "text/plain": [
       "[1, 'shivam', 2.3, True, [1, 2, 3]]"
      ]
     },
     "execution_count": 7,
     "metadata": {},
     "output_type": "execute_result"
    }
   ],
   "source": [
    "a"
   ]
  },
  {
   "cell_type": "code",
   "execution_count": 8,
   "id": "17af79b9-c4f1-47e6-b074-e19b3c99fbbf",
   "metadata": {},
   "outputs": [
    {
     "data": {
      "text/plain": [
       "[1, 2, 3]"
      ]
     },
     "execution_count": 8,
     "metadata": {},
     "output_type": "execute_result"
    }
   ],
   "source": [
    "a[4]"
   ]
  },
  {
   "cell_type": "code",
   "execution_count": 9,
   "id": "6b11122b-f794-423d-8d00-061cb899b910",
   "metadata": {},
   "outputs": [],
   "source": [
    "a=[0 for i in range(0,10)]"
   ]
  },
  {
   "cell_type": "code",
   "execution_count": 10,
   "id": "4c284afd-fff8-4a67-af65-b70afb6fd079",
   "metadata": {},
   "outputs": [
    {
     "data": {
      "text/plain": [
       "[0, 0, 0, 0, 0, 0, 0, 0, 0, 0]"
      ]
     },
     "execution_count": 10,
     "metadata": {},
     "output_type": "execute_result"
    }
   ],
   "source": [
    "a"
   ]
  },
  {
   "cell_type": "code",
   "execution_count": 11,
   "id": "77c9d986-89cd-4945-b62f-613909bab968",
   "metadata": {},
   "outputs": [],
   "source": [
    "a=[i for i in range(0,10)]"
   ]
  },
  {
   "cell_type": "code",
   "execution_count": 12,
   "id": "1f6b8ea8-ed5b-4ec7-a8b3-1a319e04e23c",
   "metadata": {},
   "outputs": [
    {
     "data": {
      "text/plain": [
       "[0, 1, 2, 3, 4, 5, 6, 7, 8, 9]"
      ]
     },
     "execution_count": 12,
     "metadata": {},
     "output_type": "execute_result"
    }
   ],
   "source": [
    "a"
   ]
  },
  {
   "cell_type": "code",
   "execution_count": 13,
   "id": "1e87cdd7-1bf1-408f-8909-de0c42dac188",
   "metadata": {},
   "outputs": [],
   "source": [
    "a=[i*i for i in range(0,10)]"
   ]
  },
  {
   "cell_type": "code",
   "execution_count": 14,
   "id": "d3da843f-02af-4eb0-90f4-5ff3b0243fcd",
   "metadata": {},
   "outputs": [
    {
     "data": {
      "text/plain": [
       "[0, 1, 4, 9, 16, 25, 36, 49, 64, 81]"
      ]
     },
     "execution_count": 14,
     "metadata": {},
     "output_type": "execute_result"
    }
   ],
   "source": [
    "a"
   ]
  },
  {
   "cell_type": "markdown",
   "id": "bf7a4186-1f44-46fd-b130-a43a8012ef00",
   "metadata": {},
   "source": [
    "# List in built Functions"
   ]
  },
  {
   "cell_type": "code",
   "execution_count": 22,
   "id": "9507fb3e-1f77-49f3-8392-4fa5631652db",
   "metadata": {},
   "outputs": [],
   "source": [
    "a=[1,2,3,4]"
   ]
  },
  {
   "cell_type": "code",
   "execution_count": 23,
   "id": "4355af74-1636-4bd1-bfe0-deeca01f9cf1",
   "metadata": {},
   "outputs": [
    {
     "data": {
      "text/plain": [
       "4"
      ]
     },
     "execution_count": 23,
     "metadata": {},
     "output_type": "execute_result"
    }
   ],
   "source": [
    "len(a)"
   ]
  },
  {
   "cell_type": "code",
   "execution_count": 25,
   "id": "8b5d6665-e8d2-4cd9-b7ed-5f914d8ce69e",
   "metadata": {},
   "outputs": [],
   "source": [
    "b=[5,6,7]"
   ]
  },
  {
   "cell_type": "code",
   "execution_count": 26,
   "id": "9ec0325c-9732-4a54-80c3-4a683539368b",
   "metadata": {},
   "outputs": [
    {
     "ename": "TypeError",
     "evalue": "can only concatenate list (not \"int\") to list",
     "output_type": "error",
     "traceback": [
      "\u001b[1;31m---------------------------------------------------------------------------\u001b[0m",
      "\u001b[1;31mTypeError\u001b[0m                                 Traceback (most recent call last)",
      "Cell \u001b[1;32mIn[26], line 1\u001b[0m\n\u001b[1;32m----> 1\u001b[0m a\u001b[38;5;241m+\u001b[39m\u001b[38;5;241m3\u001b[39m\n",
      "\u001b[1;31mTypeError\u001b[0m: can only concatenate list (not \"int\") to list"
     ]
    }
   ],
   "source": [
    "a+3"
   ]
  },
  {
   "cell_type": "code",
   "execution_count": 27,
   "id": "7e40a8f9-6130-4d8b-97f6-349edd795645",
   "metadata": {},
   "outputs": [
    {
     "data": {
      "text/plain": [
       "[1, 2, 3, 4, 5, 6, 7]"
      ]
     },
     "execution_count": 27,
     "metadata": {},
     "output_type": "execute_result"
    }
   ],
   "source": [
    "a+b"
   ]
  },
  {
   "cell_type": "code",
   "execution_count": 28,
   "id": "adfa648d-da3c-41a3-bd5d-0f094e17dbc2",
   "metadata": {},
   "outputs": [
    {
     "ename": "TypeError",
     "evalue": "can't multiply sequence by non-int of type 'list'",
     "output_type": "error",
     "traceback": [
      "\u001b[1;31m---------------------------------------------------------------------------\u001b[0m",
      "\u001b[1;31mTypeError\u001b[0m                                 Traceback (most recent call last)",
      "Cell \u001b[1;32mIn[28], line 1\u001b[0m\n\u001b[1;32m----> 1\u001b[0m a\u001b[38;5;241m*\u001b[39mb\n",
      "\u001b[1;31mTypeError\u001b[0m: can't multiply sequence by non-int of type 'list'"
     ]
    }
   ],
   "source": [
    "a*b"
   ]
  },
  {
   "cell_type": "code",
   "execution_count": 30,
   "id": "d010a140-f919-47a9-92ff-51c6202e77c2",
   "metadata": {},
   "outputs": [
    {
     "data": {
      "text/plain": [
       "[1, 2, 3, 4, 1, 2, 3, 4, 1, 2, 3, 4]"
      ]
     },
     "execution_count": 30,
     "metadata": {},
     "output_type": "execute_result"
    }
   ],
   "source": [
    "a*3"
   ]
  },
  {
   "cell_type": "code",
   "execution_count": 31,
   "id": "cba7dc95-5d14-4390-8d73-6b05b0551350",
   "metadata": {},
   "outputs": [
    {
     "data": {
      "text/plain": [
       "[1, 2, 3, 4]"
      ]
     },
     "execution_count": 31,
     "metadata": {},
     "output_type": "execute_result"
    }
   ],
   "source": [
    "a"
   ]
  },
  {
   "cell_type": "code",
   "execution_count": 32,
   "id": "0dd2a7bd-c883-48d5-9f01-ef59b541ebb3",
   "metadata": {},
   "outputs": [],
   "source": [
    "# adding data to end of the list\n",
    "a.append(55)"
   ]
  },
  {
   "cell_type": "code",
   "execution_count": 33,
   "id": "66a6ce0b-557c-4f73-9069-c7e527792628",
   "metadata": {},
   "outputs": [
    {
     "data": {
      "text/plain": [
       "[1, 2, 3, 4, 55]"
      ]
     },
     "execution_count": 33,
     "metadata": {},
     "output_type": "execute_result"
    }
   ],
   "source": [
    "a"
   ]
  },
  {
   "cell_type": "code",
   "execution_count": 38,
   "id": "bd843d25-6693-4d82-9964-a10921ab830a",
   "metadata": {},
   "outputs": [],
   "source": [
    "# adding data to specific index of list\n",
    "a.insert(0,13) # 0 index pe 13 add kr"
   ]
  },
  {
   "cell_type": "code",
   "execution_count": 39,
   "id": "e1dbeba4-8ca5-4e0e-8cff-45decc14cccc",
   "metadata": {},
   "outputs": [
    {
     "data": {
      "text/plain": [
       "[13, 10, 0, 1, 2, 3, 4, 55]"
      ]
     },
     "execution_count": 39,
     "metadata": {},
     "output_type": "execute_result"
    }
   ],
   "source": [
    "a"
   ]
  },
  {
   "cell_type": "code",
   "execution_count": 40,
   "id": "92805dab-5a8e-4492-86ae-222190f68296",
   "metadata": {},
   "outputs": [],
   "source": [
    "a=[1,2,3]\n",
    "b=[4,5,6,7]"
   ]
  },
  {
   "cell_type": "code",
   "execution_count": 44,
   "id": "a2a795db-fa7c-4642-ad6f-38ff358ffe80",
   "metadata": {},
   "outputs": [],
   "source": [
    "a.extend(b)  # it is equal to a+b, the only difference is that it will change the original list 'a'"
   ]
  },
  {
   "cell_type": "code",
   "execution_count": 43,
   "id": "dd7f1023-a71f-42c0-9e63-adab973d8491",
   "metadata": {},
   "outputs": [
    {
     "data": {
      "text/plain": [
       "[1, 2, 3, 4, 5, 6, 7]"
      ]
     },
     "execution_count": 43,
     "metadata": {},
     "output_type": "execute_result"
    }
   ],
   "source": [
    "a  # see you can see it over there a has been changed, In a+b, a will not change, it just an operation a+b"
   ]
  },
  {
   "cell_type": "code",
   "execution_count": 50,
   "id": "f968f188-8b87-4374-848f-cdaf907f3de0",
   "metadata": {},
   "outputs": [],
   "source": [
    "a=[1,2,3,4,4,5]"
   ]
  },
  {
   "cell_type": "code",
   "execution_count": 51,
   "id": "a04eaac2-78ca-43a2-bc42-f4a022c3a411",
   "metadata": {},
   "outputs": [],
   "source": [
    "a.remove(4)   # it will remove the first occurance of 4 in the list only i.e. jaha bhi pehla 4 milega usse delete kr dega"
   ]
  },
  {
   "cell_type": "code",
   "execution_count": 52,
   "id": "a8754d84-0284-40aa-936d-a35fd1676e4a",
   "metadata": {},
   "outputs": [
    {
     "data": {
      "text/plain": [
       "[1, 2, 3, 4, 5]"
      ]
     },
     "execution_count": 52,
     "metadata": {},
     "output_type": "execute_result"
    }
   ],
   "source": [
    "a"
   ]
  },
  {
   "cell_type": "code",
   "execution_count": 53,
   "id": "14c220f4-d54d-4e25-a3d5-a685fdfe26f1",
   "metadata": {},
   "outputs": [],
   "source": [
    "a=[1,2,3,4,5]"
   ]
  },
  {
   "cell_type": "code",
   "execution_count": 54,
   "id": "1bcb016f-6190-4d8e-9e37-8fd86166de42",
   "metadata": {},
   "outputs": [
    {
     "data": {
      "text/plain": [
       "4"
      ]
     },
     "execution_count": 54,
     "metadata": {},
     "output_type": "execute_result"
    }
   ],
   "source": [
    "a.pop(3)  # pop require the index to delete an element of list, it will return ki konsa element delete hua hai"
   ]
  },
  {
   "cell_type": "code",
   "execution_count": 55,
   "id": "e2b1f053-5a69-4402-9e00-1998b6567998",
   "metadata": {},
   "outputs": [
    {
     "data": {
      "text/plain": [
       "[1, 2, 3, 5]"
      ]
     },
     "execution_count": 55,
     "metadata": {},
     "output_type": "execute_result"
    }
   ],
   "source": [
    "a"
   ]
  },
  {
   "cell_type": "code",
   "execution_count": 56,
   "id": "be2eb57c-9613-4df1-a988-6c5ab6a435f3",
   "metadata": {},
   "outputs": [],
   "source": [
    "a=[1,2,3,4,5]"
   ]
  },
  {
   "cell_type": "code",
   "execution_count": 57,
   "id": "8ee8d3ca-43ea-4a3c-8bce-449e159fea1b",
   "metadata": {},
   "outputs": [],
   "source": [
    "del a[4]"
   ]
  },
  {
   "cell_type": "code",
   "execution_count": 58,
   "id": "2f337af1-3c3c-4f15-8bdc-f91dbd2121e9",
   "metadata": {},
   "outputs": [
    {
     "data": {
      "text/plain": [
       "[1, 2, 3, 4]"
      ]
     },
     "execution_count": 58,
     "metadata": {},
     "output_type": "execute_result"
    }
   ],
   "source": [
    "a"
   ]
  },
  {
   "cell_type": "code",
   "execution_count": 59,
   "id": "6045fdc8-c522-4339-b3f2-8600e20481ea",
   "metadata": {},
   "outputs": [],
   "source": [
    "a=[234,545,2,64,343,223,555]"
   ]
  },
  {
   "cell_type": "code",
   "execution_count": 61,
   "id": "56477dcd-db09-4976-b8d6-a95c766cbebc",
   "metadata": {},
   "outputs": [],
   "source": [
    "a.sort()"
   ]
  },
  {
   "cell_type": "code",
   "execution_count": 62,
   "id": "e0ec1ec7-0336-4ef4-8f23-67b9d1506dbb",
   "metadata": {},
   "outputs": [
    {
     "data": {
      "text/plain": [
       "[2, 64, 223, 234, 343, 545, 555]"
      ]
     },
     "execution_count": 62,
     "metadata": {},
     "output_type": "execute_result"
    }
   ],
   "source": [
    "a"
   ]
  },
  {
   "cell_type": "code",
   "execution_count": 65,
   "id": "52ddcc2f-bf32-416a-b1d2-7d0e929693a2",
   "metadata": {},
   "outputs": [
    {
     "data": {
      "text/plain": [
       "555"
      ]
     },
     "execution_count": 65,
     "metadata": {},
     "output_type": "execute_result"
    }
   ],
   "source": [
    "max(a)"
   ]
  },
  {
   "cell_type": "code",
   "execution_count": 67,
   "id": "d7df1cde-720b-4a7b-a9f7-0afdcdfa4b4b",
   "metadata": {},
   "outputs": [
    {
     "data": {
      "text/plain": [
       "2"
      ]
     },
     "execution_count": 67,
     "metadata": {},
     "output_type": "execute_result"
    }
   ],
   "source": [
    "min(a)"
   ]
  },
  {
   "cell_type": "code",
   "execution_count": 68,
   "id": "5fdf1e13-e596-428f-9b7f-d8485266c30c",
   "metadata": {},
   "outputs": [],
   "source": [
    "a=[34,62,34]"
   ]
  },
  {
   "cell_type": "code",
   "execution_count": 70,
   "id": "6374b0f8-ab3c-4e56-9552-a72298f04aca",
   "metadata": {},
   "outputs": [
    {
     "data": {
      "text/plain": [
       "1"
      ]
     },
     "execution_count": 70,
     "metadata": {},
     "output_type": "execute_result"
    }
   ],
   "source": [
    "a.index(62)"
   ]
  },
  {
   "cell_type": "code",
   "execution_count": 71,
   "id": "35b32efc-340a-41bd-857c-7066187e2737",
   "metadata": {},
   "outputs": [],
   "source": [
    "a=['shivam',1,23.3]\n"
   ]
  },
  {
   "cell_type": "code",
   "execution_count": 72,
   "id": "acd02697-2f65-4897-bac7-581da3d528c2",
   "metadata": {},
   "outputs": [
    {
     "ename": "TypeError",
     "evalue": "'<' not supported between instances of 'int' and 'str'",
     "output_type": "error",
     "traceback": [
      "\u001b[1;31m---------------------------------------------------------------------------\u001b[0m",
      "\u001b[1;31mTypeError\u001b[0m                                 Traceback (most recent call last)",
      "Cell \u001b[1;32mIn[72], line 1\u001b[0m\n\u001b[1;32m----> 1\u001b[0m a\u001b[38;5;241m.\u001b[39msort()\n",
      "\u001b[1;31mTypeError\u001b[0m: '<' not supported between instances of 'int' and 'str'"
     ]
    }
   ],
   "source": [
    "a.sort()"
   ]
  },
  {
   "cell_type": "code",
   "execution_count": null,
   "id": "862bfee9-cff7-4091-968b-6e1d1cdc5823",
   "metadata": {},
   "outputs": [],
   "source": []
  },
  {
   "cell_type": "markdown",
   "id": "6512b90f-e85d-4dfe-b504-9d6593b31544",
   "metadata": {},
   "source": [
    "# Taking input into list"
   ]
  },
  {
   "cell_type": "markdown",
   "id": "53742cef-adbf-4398-99fb-1193bca63f32",
   "metadata": {},
   "source": [
    "## Method1: First I take the size from the user than i will take input list element one by one in different line and last i will print the list "
   ]
  },
  {
   "cell_type": "code",
   "execution_count": 74,
   "id": "2841d560-8506-45a7-bf0e-4457bf26b496",
   "metadata": {},
   "outputs": [
    {
     "name": "stdin",
     "output_type": "stream",
     "text": [
      " 4\n",
      " 2\n",
      " 3\n",
      " 44\n",
      " 32\n"
     ]
    },
    {
     "data": {
      "text/plain": [
       "[2, 3, 44, 32]"
      ]
     },
     "execution_count": 74,
     "metadata": {},
     "output_type": "execute_result"
    }
   ],
   "source": [
    "size=int(input())\n",
    "a=[]\n",
    "for i in range(size):\n",
    "    e=int(input())\n",
    "    a.append(e)\n",
    "l=a\n",
    "l"
   ]
  },
  {
   "cell_type": "markdown",
   "id": "30f19016-6ade-4af4-a154-23126d67a1c0",
   "metadata": {},
   "source": [
    "# Method2: I will take all the element of list in same line separated by space without taking the size of list from the user"
   ]
  },
  {
   "cell_type": "code",
   "execution_count": 75,
   "id": "c0bb3ce6-2c7c-4125-ba4d-06ed752eacf2",
   "metadata": {},
   "outputs": [
    {
     "name": "stdin",
     "output_type": "stream",
     "text": [
      " 1 2 3 4\n"
     ]
    },
    {
     "data": {
      "text/plain": [
       "'1 2 3 4'"
      ]
     },
     "execution_count": 75,
     "metadata": {},
     "output_type": "execute_result"
    }
   ],
   "source": [
    "str_lst=input()\n",
    "str_lst"
   ]
  },
  {
   "cell_type": "code",
   "execution_count": 76,
   "id": "cf82ba2e-c444-4648-88f1-b37c91815ae1",
   "metadata": {},
   "outputs": [
    {
     "name": "stdin",
     "output_type": "stream",
     "text": [
      " 1 2 3 4\n"
     ]
    },
    {
     "data": {
      "text/plain": [
       "['1', '2', '3', '4']"
      ]
     },
     "execution_count": 76,
     "metadata": {},
     "output_type": "execute_result"
    }
   ],
   "source": [
    "str_lst=input()\n",
    "str_lst.split()"
   ]
  },
  {
   "cell_type": "code",
   "execution_count": 90,
   "id": "a5078f15-96cb-464b-8d43-9875b2086578",
   "metadata": {},
   "outputs": [
    {
     "name": "stdin",
     "output_type": "stream",
     "text": [
      " 34 2 4 3 2\n"
     ]
    },
    {
     "name": "stdout",
     "output_type": "stream",
     "text": [
      "['34', '2', '4', '3', '2']\n"
     ]
    },
    {
     "data": {
      "text/plain": [
       "[34, 2, 4, 3, 2]"
      ]
     },
     "execution_count": 90,
     "metadata": {},
     "output_type": "execute_result"
    }
   ],
   "source": [
    "str_lst=input()\n",
    "a= str_lst.split()\n",
    "print(a)\n",
    "c=[]\n",
    "for i in range(len(a)):\n",
    "    b= int(a[i])\n",
    "    c.append(b)\n",
    "c"
   ]
  },
  {
   "cell_type": "markdown",
   "id": "4f3b9888-01ba-4f77-b79f-bcf7e8eddf1b",
   "metadata": {},
   "source": [
    "# Method 3: In this we take the size first and than in next line we take all the elment of the list"
   ]
  },
  {
   "cell_type": "code",
   "execution_count": 98,
   "id": "086e33c1-f8f3-42a6-9b50-3b1845baba85",
   "metadata": {},
   "outputs": [
    {
     "name": "stdin",
     "output_type": "stream",
     "text": [
      "enter the size of list 5\n",
      " 1 2 3 4 5\n"
     ]
    },
    {
     "name": "stdout",
     "output_type": "stream",
     "text": [
      "['1', '2', '3', '4', '5']\n"
     ]
    },
    {
     "data": {
      "text/plain": [
       "[1, 2, 3, 4, 5]"
      ]
     },
     "execution_count": 98,
     "metadata": {},
     "output_type": "execute_result"
    }
   ],
   "source": [
    "size= int(input(\"enter the size of list\"))\n",
    "str_lst=input()\n",
    "a= str_lst.split()\n",
    "print(a)\n",
    "c=[]\n",
    "for i in range(size):\n",
    "    b= int(a[i])\n",
    "    c.append(b)\n",
    "c"
   ]
  },
  {
   "cell_type": "markdown",
   "id": "f2cef1a7-2c1b-41e3-80f9-099402f4fce3",
   "metadata": {},
   "source": [
    "# Method 4: In this I took the size first and than took all the list element in the same line"
   ]
  },
  {
   "cell_type": "code",
   "execution_count": 99,
   "id": "eba8954b-4e6b-48a2-8408-307dff29f1a3",
   "metadata": {},
   "outputs": [
    {
     "name": "stdin",
     "output_type": "stream",
     "text": [
      " 4 33 22 11 4\n"
     ]
    },
    {
     "name": "stdout",
     "output_type": "stream",
     "text": [
      "['4', '33', '22', '11', '4']\n"
     ]
    },
    {
     "data": {
      "text/plain": [
       "[33, 22, 11, 4]"
      ]
     },
     "execution_count": 99,
     "metadata": {},
     "output_type": "execute_result"
    }
   ],
   "source": [
    "str_lst=input()\n",
    "a= str_lst.split()\n",
    "print(a)\n",
    "c=[]\n",
    "for i in range(1,len(a)):\n",
    "    b= int(a[i])\n",
    "    c.append(b)\n",
    "c"
   ]
  },
  {
   "cell_type": "code",
   "execution_count": null,
   "id": "7bfef627-a249-43dc-a2bf-f2e8a715ab84",
   "metadata": {},
   "outputs": [],
   "source": []
  },
  {
   "cell_type": "markdown",
   "id": "b8228c55-2343-4ec8-a8a4-4c99bfc4bd8c",
   "metadata": {},
   "source": [
    "# Taking input element into the list than calculate sum of all odd and even element of list and than find there difference of it"
   ]
  },
  {
   "cell_type": "code",
   "execution_count": 104,
   "id": "86239a18-3c91-49e6-875f-0c3835c3b6bc",
   "metadata": {},
   "outputs": [
    {
     "name": "stdin",
     "output_type": "stream",
     "text": [
      " 234 2353 25325 3333 4444 65322\n"
     ]
    },
    {
     "name": "stdout",
     "output_type": "stream",
     "text": [
      "38989\n"
     ]
    }
   ],
   "source": [
    "str_lst=input()\n",
    "a= str_lst.split()\n",
    "c=[]\n",
    "odd=0\n",
    "even=0\n",
    "for i in range(len(a)):\n",
    "    b= int(a[i])\n",
    "    c.append(b)\n",
    "for j in range(len(c)):\n",
    "    if c[j]%2==0:\n",
    "        even=even+c[j]\n",
    "    else:\n",
    "        odd=odd+c[j]\n",
    "print(even-odd)"
   ]
  },
  {
   "cell_type": "code",
   "execution_count": null,
   "id": "10b33499-0926-4e8b-98d1-bdb7b76131c8",
   "metadata": {},
   "outputs": [],
   "source": []
  },
  {
   "cell_type": "markdown",
   "id": "131cf7d1-5156-4045-a97b-786382501e2f",
   "metadata": {},
   "source": [
    "# List Slicing "
   ]
  },
  {
   "cell_type": "code",
   "execution_count": 113,
   "id": "1e5db668-1a2a-4411-8e58-3a30f83cc815",
   "metadata": {},
   "outputs": [],
   "source": [
    "a=[1,2,3,4,5,6,7,8]"
   ]
  },
  {
   "cell_type": "code",
   "execution_count": 114,
   "id": "772be35c-2395-4b7a-b2cf-f7b01551ef4d",
   "metadata": {},
   "outputs": [
    {
     "data": {
      "text/plain": [
       "[1, 2]"
      ]
     },
     "execution_count": 114,
     "metadata": {},
     "output_type": "execute_result"
    }
   ],
   "source": [
    "a[:2]"
   ]
  },
  {
   "cell_type": "code",
   "execution_count": 115,
   "id": "673d5b30-8399-453d-9434-0537c1dcc8c7",
   "metadata": {},
   "outputs": [
    {
     "data": {
      "text/plain": [
       "[3, 4, 5, 6, 7, 8]"
      ]
     },
     "execution_count": 115,
     "metadata": {},
     "output_type": "execute_result"
    }
   ],
   "source": [
    "a[2:]"
   ]
  },
  {
   "cell_type": "code",
   "execution_count": 116,
   "id": "1550bb1a-ad05-48d0-bb27-f49378ebc452",
   "metadata": {},
   "outputs": [
    {
     "data": {
      "text/plain": [
       "3"
      ]
     },
     "execution_count": 116,
     "metadata": {},
     "output_type": "execute_result"
    }
   ],
   "source": [
    "a[2]"
   ]
  },
  {
   "cell_type": "code",
   "execution_count": 117,
   "id": "682b2471-4a38-4465-a2bb-e4ac9e18a95c",
   "metadata": {},
   "outputs": [
    {
     "data": {
      "text/plain": [
       "[8, 7, 6, 5, 4]"
      ]
     },
     "execution_count": 117,
     "metadata": {},
     "output_type": "execute_result"
    }
   ],
   "source": [
    "a[:2:-1]"
   ]
  },
  {
   "cell_type": "code",
   "execution_count": 118,
   "id": "5bf98467-09ef-479d-879f-40b0bfbd7bee",
   "metadata": {},
   "outputs": [
    {
     "data": {
      "text/plain": [
       "[8, 7, 6, 5]"
      ]
     },
     "execution_count": 118,
     "metadata": {},
     "output_type": "execute_result"
    }
   ],
   "source": [
    "a[12:3:-1]"
   ]
  },
  {
   "cell_type": "code",
   "execution_count": 119,
   "id": "a6f056f7-835c-406b-bcae-6faaec377c9c",
   "metadata": {},
   "outputs": [
    {
     "data": {
      "text/plain": [
       "[8, 7, 6, 5, 4, 3, 2, 1]"
      ]
     },
     "execution_count": 119,
     "metadata": {},
     "output_type": "execute_result"
    }
   ],
   "source": [
    "a[::-1]"
   ]
  },
  {
   "cell_type": "code",
   "execution_count": 120,
   "id": "d927c940-ec7e-490b-8867-cfdbc20b41b4",
   "metadata": {},
   "outputs": [
    {
     "data": {
      "text/plain": [
       "[1, 2, 3, 4, 5, 6, 7, 8]"
      ]
     },
     "execution_count": 120,
     "metadata": {},
     "output_type": "execute_result"
    }
   ],
   "source": [
    "a"
   ]
  },
  {
   "cell_type": "code",
   "execution_count": 121,
   "id": "dddb8573-bc15-4f33-a3a1-564784ac7faa",
   "metadata": {},
   "outputs": [],
   "source": [
    "a.reverse()"
   ]
  },
  {
   "cell_type": "code",
   "execution_count": 122,
   "id": "fbe7ee9f-692a-4b53-adab-602451713c71",
   "metadata": {},
   "outputs": [
    {
     "data": {
      "text/plain": [
       "[8, 7, 6, 5, 4, 3, 2, 1]"
      ]
     },
     "execution_count": 122,
     "metadata": {},
     "output_type": "execute_result"
    }
   ],
   "source": [
    "a"
   ]
  },
  {
   "cell_type": "code",
   "execution_count": null,
   "id": "ff10b9ca-f566-4ed9-be11-f736bca4b039",
   "metadata": {},
   "outputs": [],
   "source": []
  },
  {
   "cell_type": "markdown",
   "id": "7c0b2041-7137-4490-8ef8-455212647f2b",
   "metadata": {},
   "source": [
    "# Multi Dimensional List"
   ]
  },
  {
   "cell_type": "code",
   "execution_count": 1,
   "id": "9bd84743-c9df-407c-b4c5-9d7d38f631d9",
   "metadata": {},
   "outputs": [],
   "source": [
    "# In python, there is no such multidimensional, in general we take multidimensional list in the form of m*n where m is no. of rows and n  is no. of col\n",
    "a=[[1,2,3,4],[5,6,7,8],[9,10,11,12]]"
   ]
  },
  {
   "cell_type": "code",
   "execution_count": 2,
   "id": "d6b0bf44-bcd9-4362-847b-6e2022bdb3c2",
   "metadata": {},
   "outputs": [
    {
     "data": {
      "text/plain": [
       "[[1, 2, 3, 4], [5, 6, 7, 8], [9, 10, 11, 12]]"
      ]
     },
     "execution_count": 2,
     "metadata": {},
     "output_type": "execute_result"
    }
   ],
   "source": [
    "a"
   ]
  },
  {
   "cell_type": "code",
   "execution_count": 3,
   "id": "cbd0873c-2e31-42c9-9b67-b7be64ec0121",
   "metadata": {},
   "outputs": [
    {
     "data": {
      "text/plain": [
       "[1, 2, 3, 4]"
      ]
     },
     "execution_count": 3,
     "metadata": {},
     "output_type": "execute_result"
    }
   ],
   "source": [
    "a[0]"
   ]
  },
  {
   "cell_type": "code",
   "execution_count": 4,
   "id": "3d7172d1-8a4b-4f22-8830-751138dcf0e3",
   "metadata": {},
   "outputs": [
    {
     "data": {
      "text/plain": [
       "7"
      ]
     },
     "execution_count": 4,
     "metadata": {},
     "output_type": "execute_result"
    }
   ],
   "source": [
    "a[1][2]"
   ]
  },
  {
   "cell_type": "code",
   "execution_count": 5,
   "id": "bc373e7a-ca08-4241-98fc-f9d864e77358",
   "metadata": {},
   "outputs": [
    {
     "data": {
      "text/plain": [
       "3"
      ]
     },
     "execution_count": 5,
     "metadata": {},
     "output_type": "execute_result"
    }
   ],
   "source": [
    "len(a)"
   ]
  },
  {
   "cell_type": "code",
   "execution_count": 6,
   "id": "8a83d29e-d2b9-4f2d-808a-1e319bc80d60",
   "metadata": {},
   "outputs": [
    {
     "data": {
      "text/plain": [
       "4"
      ]
     },
     "execution_count": 6,
     "metadata": {},
     "output_type": "execute_result"
    }
   ],
   "source": [
    "len(a[0])"
   ]
  },
  {
   "cell_type": "code",
   "execution_count": null,
   "id": "936b9e46-afed-428d-b310-0c0c75d66245",
   "metadata": {},
   "outputs": [],
   "source": []
  },
  {
   "cell_type": "markdown",
   "id": "14388e9a-d94f-41b2-95a2-3b5451359104",
   "metadata": {},
   "source": [
    "# Taking input multidimensional list \n",
    "## Method1: First user input the size, than row by row he will enter the data element into it"
   ]
  },
  {
   "cell_type": "code",
   "execution_count": 19,
   "id": "aba4d2ad-5475-4b5a-b62b-97c4b1fd7b9c",
   "metadata": {},
   "outputs": [
    {
     "name": "stdin",
     "output_type": "stream",
     "text": [
      " 3 4\n",
      " 1 2 3 4\n",
      " 5 6 7 8\n",
      " 9 11 22 33\n"
     ]
    },
    {
     "data": {
      "text/plain": [
       "[[1, 2, 3, 4], [5, 6, 7, 8], [9, 11, 22, 33]]"
      ]
     },
     "execution_count": 19,
     "metadata": {},
     "output_type": "execute_result"
    }
   ],
   "source": [
    "size=input().split()\n",
    "m=int(size[0])\n",
    "n=int(size[1])\n",
    "# print(m,n,size)\n",
    "l=[]\n",
    "for i in range(m):\n",
    "    nxt_row= input().split()\n",
    "    x=[]\n",
    "    for j in range(n):\n",
    "        ne=int(nxt_row[j])\n",
    "        x.append(ne)\n",
    "    l.append(x)\n",
    "l"
   ]
  },
  {
   "cell_type": "markdown",
   "id": "885d65d2-be89-4adf-90e7-ab04c1223277",
   "metadata": {},
   "source": [
    "# Method2:  In this is take first size m*n, than i take the element input line by line"
   ]
  },
  {
   "cell_type": "code",
   "execution_count": 20,
   "id": "e438b29f-c4ef-4e36-accf-f98a3fa31841",
   "metadata": {},
   "outputs": [
    {
     "name": "stdin",
     "output_type": "stream",
     "text": [
      " 3 4\n",
      " 1\n",
      " 2\n",
      " 3\n",
      " 4\n",
      " 5\n",
      " 6\n",
      " 7\n",
      " 8\n",
      " 9\n",
      " 10\n",
      " 11\n",
      " 12\n"
     ]
    },
    {
     "data": {
      "text/plain": [
       "[[1, 2, 3, 4], [5, 6, 7, 8], [9, 10, 11, 12]]"
      ]
     },
     "execution_count": 20,
     "metadata": {},
     "output_type": "execute_result"
    }
   ],
   "source": [
    "size=input().split()\n",
    "m=int(size[0])\n",
    "n=int(size[1])\n",
    "l=[]\n",
    "for i in range(m):\n",
    "    nxt_row=[]\n",
    "    for j in range(n):\n",
    "        element=int(input())\n",
    "        nxt_row.append(element)\n",
    "    l.append(nxt_row)\n",
    "l\n"
   ]
  },
  {
   "cell_type": "markdown",
   "id": "ee499c48-a02b-4b23-8a06-e776873516a0",
   "metadata": {},
   "source": [
    "# Method3: In this i will take size first, than i will take all the input in single line separate by space, than display the list"
   ]
  },
  {
   "cell_type": "code",
   "execution_count": 24,
   "id": "68e5e21f-1b8c-4cfa-b025-76559d91277d",
   "metadata": {},
   "outputs": [
    {
     "name": "stdin",
     "output_type": "stream",
     "text": [
      " 3 4\n",
      " 1 2 3 4 5 6 7 8 9 10 11 12\n"
     ]
    },
    {
     "data": {
      "text/plain": [
       "[[1, 2, 3, 4], [1, 2, 3, 4], [1, 2, 3, 4]]"
      ]
     },
     "execution_count": 24,
     "metadata": {},
     "output_type": "execute_result"
    }
   ],
   "source": [
    "size=input().split()\n",
    "m=int(size[0])\n",
    "n=int(size[1])\n",
    "l=input().split()\n",
    "x=[]\n",
    "for i in range(m):\n",
    "    nxt_row=[]\n",
    "   \n",
    "    for j in range(n):\n",
    "        \n",
    "        a=int(l[j])\n",
    "        nxt_row.append(a)\n",
    "    \n",
    "    x.append(nxt_row)\n",
    "x\n"
   ]
  },
  {
   "cell_type": "markdown",
   "id": "9cfd98c0-212c-4573-ba87-15896f470b2b",
   "metadata": {},
   "source": [
    "# More on Multi Dimensional List"
   ]
  },
  {
   "cell_type": "code",
   "execution_count": 25,
   "id": "c915d6c5-fe00-4b3b-80d9-f5a6c551049a",
   "metadata": {},
   "outputs": [],
   "source": [
    "a=[[1,2,3,4],[5,6,7,8],[9,0,10,11],[12,13,14,15]]"
   ]
  },
  {
   "cell_type": "code",
   "execution_count": 26,
   "id": "c380be9b-9821-4851-a80e-6edc1427deca",
   "metadata": {},
   "outputs": [
    {
     "data": {
      "text/plain": [
       "[[1, 2, 3, 4], [5, 6, 7, 8], [9, 0, 10, 11], [12, 13, 14, 15]]"
      ]
     },
     "execution_count": 26,
     "metadata": {},
     "output_type": "execute_result"
    }
   ],
   "source": [
    "a"
   ]
  },
  {
   "cell_type": "code",
   "execution_count": 27,
   "id": "ecfa2974-f062-4e0e-8335-c8302757cafc",
   "metadata": {},
   "outputs": [
    {
     "data": {
      "text/plain": [
       "[[9, 0, 10, 11], [12, 13, 14, 15]]"
      ]
     },
     "execution_count": 27,
     "metadata": {},
     "output_type": "execute_result"
    }
   ],
   "source": [
    "a[2:]"
   ]
  },
  {
   "cell_type": "code",
   "execution_count": 28,
   "id": "5d3a8260-ed77-44cf-a539-8144394d904f",
   "metadata": {},
   "outputs": [],
   "source": [
    "a=[0 for i in range(10)]"
   ]
  },
  {
   "cell_type": "code",
   "execution_count": 29,
   "id": "2c852899-d97a-46f3-b91a-a71a32fdcf31",
   "metadata": {},
   "outputs": [
    {
     "data": {
      "text/plain": [
       "[0, 0, 0, 0, 0, 0, 0, 0, 0, 0]"
      ]
     },
     "execution_count": 29,
     "metadata": {},
     "output_type": "execute_result"
    }
   ],
   "source": [
    "a"
   ]
  },
  {
   "cell_type": "code",
   "execution_count": 32,
   "id": "2af262da-8744-4e89-87d4-5e07e0504950",
   "metadata": {},
   "outputs": [
    {
     "name": "stdin",
     "output_type": "stream",
     "text": [
      " 1\n",
      " 2\n",
      " 3\n",
      " 4\n",
      " 5\n",
      " 6\n",
      " 7\n",
      " 8\n",
      " 9\n",
      " 0\n"
     ]
    },
    {
     "data": {
      "text/plain": [
       "[1, 2, 3, 4, 5, 6, 7, 8, 9, 0]"
      ]
     },
     "execution_count": 32,
     "metadata": {},
     "output_type": "execute_result"
    }
   ],
   "source": [
    "a=[int(input()) for i in range(10)]\n",
    "a"
   ]
  },
  {
   "cell_type": "code",
   "execution_count": 33,
   "id": "989bceb4-d507-4d48-b87b-e6365ce2bd12",
   "metadata": {},
   "outputs": [
    {
     "data": {
      "text/plain": [
       "[1, 2, 3]"
      ]
     },
     "execution_count": 33,
     "metadata": {},
     "output_type": "execute_result"
    }
   ],
   "source": [
    "l=['1','2','3']\n",
    "a=[int(s) for s in l]\n",
    "a"
   ]
  },
  {
   "cell_type": "markdown",
   "id": "303041a5-2bc2-4b4e-9a83-48e3a07d25d4",
   "metadata": {},
   "source": [
    "# Self Learning Practice purpose"
   ]
  },
  {
   "cell_type": "code",
   "execution_count": 36,
   "id": "8dd95767-2f88-451a-811a-257b4c5ee122",
   "metadata": {},
   "outputs": [
    {
     "name": "stdin",
     "output_type": "stream",
     "text": [
      " 1 2 3 4 5\n"
     ]
    },
    {
     "data": {
      "text/plain": [
       "[1, 2, 3, 4, 5]"
      ]
     },
     "execution_count": 36,
     "metadata": {},
     "output_type": "execute_result"
    }
   ],
   "source": [
    "line=input()\n",
    "l=line.split()\n",
    "x=[]\n",
    "for i in l:\n",
    "    a=int(i)\n",
    "    x.append(a)\n",
    "\n",
    "x\n",
    "\n",
    "\n",
    "#Steps\n",
    "#1. First take the input in the string form.\n",
    "#2. Split the every input in to single single string.\n",
    "#3. Convert that single string into integer form.\n",
    "#4. Append integer in to the new list\n"
   ]
  },
  {
   "cell_type": "code",
   "execution_count": 41,
   "id": "e36ba66f-b2df-4153-a469-ca8f10825429",
   "metadata": {},
   "outputs": [
    {
     "name": "stdout",
     "output_type": "stream",
     "text": [
      "line: 22 33\n",
      "l: ['22', '33']\n",
      "a [22, 33]\n"
     ]
    }
   ],
   "source": [
    "line='22 33'\n",
    "print(\"line:\",line)\n",
    "l=line.split()\n",
    "print(\"l:\",l)\n",
    "a=[int(l[0]),int(l[1])]\n",
    "print(\"a\",a)"
   ]
  },
  {
   "cell_type": "code",
   "execution_count": 43,
   "id": "7c29674d-1dca-480d-832e-2c9351241911",
   "metadata": {},
   "outputs": [
    {
     "name": "stdin",
     "output_type": "stream",
     "text": [
      " 1 2 3 4 5 6 7\n"
     ]
    },
    {
     "name": "stdout",
     "output_type": "stream",
     "text": [
      "[1, 2, 3, 4, 5, 6, 7]\n"
     ]
    }
   ],
   "source": [
    "# 1. Input liya.\n",
    "# 2. Split kiya input ko.\n",
    "# 3. New list mei append kiya.\n",
    "\n",
    "\n",
    "ip_list=input()# 1. Input liya.\n",
    "\n",
    "spt_list=ip_list.split()# 2. Split kiya input ko.\n",
    "\n",
    "new_list=[]\n",
    "for i in spt_list:\n",
    "    new_list.append(int(i))# 3. New list mei append kiya.\n",
    "\n",
    "\n",
    "print(new_list)"
   ]
  },
  {
   "cell_type": "code",
   "execution_count": 45,
   "id": "a157ffcf-1376-4031-9137-a2d3e725df66",
   "metadata": {},
   "outputs": [
    {
     "name": "stdin",
     "output_type": "stream",
     "text": [
      " 1 2 3 4 5\n"
     ]
    },
    {
     "data": {
      "text/plain": [
       "[1, 2, 3, 4, 5]"
      ]
     },
     "execution_count": 45,
     "metadata": {},
     "output_type": "execute_result"
    }
   ],
   "source": [
    "ip_list=input()# 1. Input liya.\n",
    "\n",
    "spt_list=ip_list.split()# 2. Split kiya input ko.\n",
    "\n",
    "new_list=[int(i) for i in spt_list]\n",
    "\n",
    "new_list"
   ]
  },
  {
   "cell_type": "code",
   "execution_count": 46,
   "id": "4b5c04f5-6689-48ce-b41f-19642a89d570",
   "metadata": {},
   "outputs": [
    {
     "name": "stdin",
     "output_type": "stream",
     "text": [
      " 1 2 3 4\n"
     ]
    },
    {
     "data": {
      "text/plain": [
       "[1, 2, 3, 4]"
      ]
     },
     "execution_count": 46,
     "metadata": {},
     "output_type": "execute_result"
    }
   ],
   "source": [
    "#All 3 steps done in single line.\n",
    "new_list=[int(i) for i in input().split()]\n",
    "new_list"
   ]
  },
  {
   "cell_type": "code",
   "execution_count": 50,
   "id": "bf92ae5b-3442-41cb-890c-4824b30e889a",
   "metadata": {},
   "outputs": [
    {
     "name": "stdin",
     "output_type": "stream",
     "text": [
      " 5\n",
      " 1 2 3 4 5 6\n"
     ]
    },
    {
     "data": {
      "text/plain": [
       "[1, 2, 3, 4, 5, 6]"
      ]
     },
     "execution_count": 50,
     "metadata": {},
     "output_type": "execute_result"
    }
   ],
   "source": [
    "size=int(input())\n",
    "new_list=[int(i) for i in  input().split()]\n",
    "new_list"
   ]
  },
  {
   "cell_type": "code",
   "execution_count": 53,
   "id": "5e9b0924-ce7e-4742-834d-77cc3c3498e9",
   "metadata": {},
   "outputs": [
    {
     "name": "stdin",
     "output_type": "stream",
     "text": [
      " 5 1 2 3 4 5\n"
     ]
    },
    {
     "name": "stdout",
     "output_type": "stream",
     "text": [
      "[1, 2, 3, 4, 5]\n"
     ]
    }
   ],
   "source": [
    "new_list=[int(i) for i in input().split()]\n",
    "new_list=new_list[1:]\n",
    "print(new_list)"
   ]
  },
  {
   "cell_type": "code",
   "execution_count": 54,
   "id": "a4b00945-14be-4833-8ce9-39346295a6d0",
   "metadata": {},
   "outputs": [
    {
     "name": "stdin",
     "output_type": "stream",
     "text": [
      " 5\n",
      " 1\n",
      " 2\n",
      " 3\n",
      " 4\n",
      " 5\n"
     ]
    },
    {
     "name": "stdout",
     "output_type": "stream",
     "text": [
      "[1, 2, 3, 4, 5]\n"
     ]
    }
   ],
   "source": [
    "size=int(input())\n",
    "new_list=[]\n",
    "for i in range(size):\n",
    "    element=int(input())\n",
    "    new_list.append(element)\n",
    "\n",
    "print(new_list)"
   ]
  },
  {
   "cell_type": "code",
   "execution_count": null,
   "id": "bcc9cb72-9b99-4edd-a827-4d8b20c9e5ba",
   "metadata": {},
   "outputs": [],
   "source": []
  },
  {
   "cell_type": "code",
   "execution_count": 2,
   "id": "aa1a16ec-1eb8-4597-a4b1-3d62646eec47",
   "metadata": {},
   "outputs": [
    {
     "name": "stdin",
     "output_type": "stream",
     "text": [
      " 3 2\n",
      " 1 2 3 4 5\n",
      " 5 4 3 2 1\n",
      " 1 2 3 4 5\n"
     ]
    },
    {
     "name": "stdout",
     "output_type": "stream",
     "text": [
      "[[1, 2, 3, 4, 5], [5, 4, 3, 2, 1], [1, 2, 3, 4, 5]]\n"
     ]
    }
   ],
   "source": [
    "size=input().split()\n",
    "m=int(size[0])\n",
    "n=int(size[1])\n",
    "\n",
    "final_list=[]\n",
    "\n",
    "for i in range(m):\n",
    "    next_row=[int(j) for j in input().split()]\n",
    "    final_list.append(next_row)\n",
    "\n",
    "print(final_list)\n",
    "    "
   ]
  },
  {
   "cell_type": "code",
   "execution_count": 57,
   "id": "c59f0c42-005a-4354-afee-3324dd2293a7",
   "metadata": {},
   "outputs": [
    {
     "name": "stdin",
     "output_type": "stream",
     "text": [
      " 3 4\n",
      " 1\n",
      " 2\n",
      " 3\n",
      " 4\n",
      " 5\n",
      " 6\n",
      " 7\n",
      " 8\n",
      " 9\n",
      " 10\n",
      " 11\n",
      " 12\n"
     ]
    },
    {
     "name": "stdout",
     "output_type": "stream",
     "text": [
      "[[1, 2, 3, 4], [5, 6, 7, 8], [9, 10, 11, 12]]\n"
     ]
    }
   ],
   "source": [
    "size=input().split()\n",
    "m=int(size[0])\n",
    "n=int(size[1])\n",
    "\n",
    "final_list=[]\n",
    "\n",
    "for i in range(m):\n",
    "    next_row=[]\n",
    "    for j in range(n):\n",
    "        element=int(input())\n",
    "        next_row.append(element)\n",
    "    final_list.append(next_row)\n",
    "\n",
    "print(final_list)"
   ]
  },
  {
   "cell_type": "code",
   "execution_count": null,
   "id": "2c8c78d1-9c95-4491-ad52-eb310c3dbc2c",
   "metadata": {},
   "outputs": [],
   "source": []
  },
  {
   "cell_type": "code",
   "execution_count": null,
   "id": "edb8356f-6f51-40cd-86f9-38afb0c9c359",
   "metadata": {},
   "outputs": [],
   "source": []
  }
 ],
 "metadata": {
  "kernelspec": {
   "display_name": "Python 3 (ipykernel)",
   "language": "python",
   "name": "python3"
  },
  "language_info": {
   "codemirror_mode": {
    "name": "ipython",
    "version": 3
   },
   "file_extension": ".py",
   "mimetype": "text/x-python",
   "name": "python",
   "nbconvert_exporter": "python",
   "pygments_lexer": "ipython3",
   "version": "3.11.7"
  }
 },
 "nbformat": 4,
 "nbformat_minor": 5
}
